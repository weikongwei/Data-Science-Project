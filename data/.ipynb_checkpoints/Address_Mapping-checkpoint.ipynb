{
 "cells": [
  {
   "cell_type": "markdown",
   "metadata": {},
   "source": [
    "### Find Community Name and Community Number"
   ]
  },
  {
   "cell_type": "markdown",
   "metadata": {},
   "source": [
    "Given list of address with latitude and longitude and geoJSON file of Chicago community Boundaries (https://data.cityofchicago.org/Facilities-Geographic-Boundaries/Boundaries-Community-Areas-current-/cauq-8yn6),\n",
    "currenlty trying to find which community each address belongs to."
   ]
  },
  {
   "cell_type": "code",
   "execution_count": 61,
   "metadata": {},
   "outputs": [],
   "source": [
    "# To purse JSON and geoJSON\n",
    "import json\n",
    "from shapely.geometry import shape, Point   # Depending on your version, use: from shapely.geometry import shape, Point\n",
    "\n",
    "import numpy as np # library to handle data in a vectorized manner\n",
    "\n",
    "import pandas as pd # library for data analsysis\n",
    "pd.set_option('display.max_columns', None)\n",
    "pd.set_option('display.max_rows', None)"
   ]
  },
  {
   "cell_type": "code",
   "execution_count": 62,
   "metadata": {},
   "outputs": [
    {
     "data": {
      "text/html": [
       "<div>\n",
       "<style scoped>\n",
       "    .dataframe tbody tr th:only-of-type {\n",
       "        vertical-align: middle;\n",
       "    }\n",
       "\n",
       "    .dataframe tbody tr th {\n",
       "        vertical-align: top;\n",
       "    }\n",
       "\n",
       "    .dataframe thead th {\n",
       "        text-align: right;\n",
       "    }\n",
       "</style>\n",
       "<table border=\"1\" class=\"dataframe\">\n",
       "  <thead>\n",
       "    <tr style=\"text-align: right;\">\n",
       "      <th></th>\n",
       "      <th>address</th>\n",
       "      <th>latitude</th>\n",
       "      <th>longitude</th>\n",
       "    </tr>\n",
       "  </thead>\n",
       "  <tbody>\n",
       "    <tr>\n",
       "      <th>0</th>\n",
       "      <td>5313 N DELPHIA AVE</td>\n",
       "      <td>41.975871</td>\n",
       "      <td>-87.841434</td>\n",
       "    </tr>\n",
       "    <tr>\n",
       "      <th>1</th>\n",
       "      <td>2221 N FREMONT ST</td>\n",
       "      <td>41.922454</td>\n",
       "      <td>-87.650801</td>\n",
       "    </tr>\n",
       "    <tr>\n",
       "      <th>2</th>\n",
       "      <td>4446 N PARKSIDE AVE</td>\n",
       "      <td>41.961867</td>\n",
       "      <td>-87.768828</td>\n",
       "    </tr>\n",
       "    <tr>\n",
       "      <th>3</th>\n",
       "      <td>6964 W DIVERSEY AVE</td>\n",
       "      <td>41.931001</td>\n",
       "      <td>-87.800237</td>\n",
       "    </tr>\n",
       "    <tr>\n",
       "      <th>4</th>\n",
       "      <td>2336 N COMMONWEALTH AVE</td>\n",
       "      <td>41.924814</td>\n",
       "      <td>-87.638585</td>\n",
       "    </tr>\n",
       "  </tbody>\n",
       "</table>\n",
       "</div>"
      ],
      "text/plain": [
       "                   address   latitude  longitude\n",
       "0       5313 N DELPHIA AVE  41.975871 -87.841434\n",
       "1        2221 N FREMONT ST  41.922454 -87.650801\n",
       "2      4446 N PARKSIDE AVE  41.961867 -87.768828\n",
       "3      6964 W DIVERSEY AVE  41.931001 -87.800237\n",
       "4  2336 N COMMONWEALTH AVE  41.924814 -87.638585"
      ]
     },
     "execution_count": 62,
     "metadata": {},
     "output_type": "execute_result"
    }
   ],
   "source": [
    "# Load list of address\n",
    "house_loc_filtered = pd.read_csv('Chicago_address.csv')\n",
    "# house_loc_filtered['latitude'] = house_loc_filtered['latitude'].astype('str')\n",
    "# house_loc_filtered['longitude'] = house_loc_filtered['longitude'].astype('str')\n",
    "house_loc_filtered.head()\n",
    "\n",
    "# The goal is to add two columns in this talbe, one is community_name, and the other is community_area_number"
   ]
  },
  {
   "cell_type": "code",
   "execution_count": 63,
   "metadata": {},
   "outputs": [],
   "source": [
    "# This community_finder requires a latitude, a longitude, and a loaded geoJSON file as inputs \n",
    "def comm_finder(lat, lng, js):\n",
    "    # construct point based on lon/lat returned by geocoder\n",
    "    point = Point(lng, lat)  # Point class from shapely library; (longitude,latitude)\n",
    "\n",
    "    # check each polygon to see if it contains the point\n",
    "    for i,feature in enumerate(js['features']):\n",
    "        polygon = shape(feature['geometry']) # shape method from shapely library\n",
    "        if polygon.contains(point): # if contains, return community name and area number\n",
    "            return (feature['properties'][\"community\"],feature['properties'][\"area_numbe\"])\n",
    "        elif i == len(js['features'])-1:\n",
    "            return (np.nan,np.nan)  # if doesn't, return NaN value\n",
    "        else:\n",
    "            continue"
   ]
  },
  {
   "cell_type": "code",
   "execution_count": 64,
   "metadata": {},
   "outputs": [],
   "source": [
    "# with open('Boundaries_Community_Areas.geojson') as f:\n",
    "#     js = json.load(f)\n",
    "\n",
    "# # js['features'][2]['properties']['community']\n",
    "\n",
    "# feature = js['features'][0]\n",
    "# point = Point(41.97587125,-87.841434)\n",
    "# polygon = shape(feature['geometry'])\n",
    "# print(point)\n",
    "# polygon.contains(point)"
   ]
  },
  {
   "cell_type": "code",
   "execution_count": 65,
   "metadata": {},
   "outputs": [],
   "source": [
    "# load GeoJSON file containing sectors\n",
    "with open('Boundaries_Community_Areas.geojson') as f:\n",
    "    js = json.load(f)\n",
    "\n",
    "# Initializing output lists\n",
    "community_name = []\n",
    "community_code = []\n",
    "\n",
    "# Iterating through all house locations\n",
    "for lat, lng in zip(house_loc_filtered['latitude'],house_loc_filtered['longitude']):\n",
    "    cmm, cmm_num = comm_finder(lat, lng, js)\n",
    "    community_name.append(cmm)\n",
    "    community_code.append(cmm_num)"
   ]
  },
  {
   "cell_type": "code",
   "execution_count": 68,
   "metadata": {},
   "outputs": [
    {
     "data": {
      "text/html": [
       "<div>\n",
       "<style scoped>\n",
       "    .dataframe tbody tr th:only-of-type {\n",
       "        vertical-align: middle;\n",
       "    }\n",
       "\n",
       "    .dataframe tbody tr th {\n",
       "        vertical-align: top;\n",
       "    }\n",
       "\n",
       "    .dataframe thead th {\n",
       "        text-align: right;\n",
       "    }\n",
       "</style>\n",
       "<table border=\"1\" class=\"dataframe\">\n",
       "  <thead>\n",
       "    <tr style=\"text-align: right;\">\n",
       "      <th></th>\n",
       "      <th>address</th>\n",
       "      <th>latitude</th>\n",
       "      <th>longitude</th>\n",
       "      <th>community</th>\n",
       "      <th>community_area_code</th>\n",
       "    </tr>\n",
       "  </thead>\n",
       "  <tbody>\n",
       "    <tr>\n",
       "      <th>0</th>\n",
       "      <td>5313 N DELPHIA AVE</td>\n",
       "      <td>41.975871</td>\n",
       "      <td>-87.841434</td>\n",
       "      <td>OHARE</td>\n",
       "      <td>76</td>\n",
       "    </tr>\n",
       "    <tr>\n",
       "      <th>1</th>\n",
       "      <td>2221 N FREMONT ST</td>\n",
       "      <td>41.922454</td>\n",
       "      <td>-87.650801</td>\n",
       "      <td>LINCOLN PARK</td>\n",
       "      <td>7</td>\n",
       "    </tr>\n",
       "    <tr>\n",
       "      <th>2</th>\n",
       "      <td>4446 N PARKSIDE AVE</td>\n",
       "      <td>41.961867</td>\n",
       "      <td>-87.768828</td>\n",
       "      <td>PORTAGE PARK</td>\n",
       "      <td>15</td>\n",
       "    </tr>\n",
       "    <tr>\n",
       "      <th>3</th>\n",
       "      <td>6964 W DIVERSEY AVE</td>\n",
       "      <td>41.931001</td>\n",
       "      <td>-87.800237</td>\n",
       "      <td>MONTCLARE</td>\n",
       "      <td>18</td>\n",
       "    </tr>\n",
       "    <tr>\n",
       "      <th>4</th>\n",
       "      <td>2336 N COMMONWEALTH AVE</td>\n",
       "      <td>41.924814</td>\n",
       "      <td>-87.638585</td>\n",
       "      <td>LINCOLN PARK</td>\n",
       "      <td>7</td>\n",
       "    </tr>\n",
       "  </tbody>\n",
       "</table>\n",
       "</div>"
      ],
      "text/plain": [
       "                   address   latitude  longitude     community  \\\n",
       "0       5313 N DELPHIA AVE  41.975871 -87.841434         OHARE   \n",
       "1        2221 N FREMONT ST  41.922454 -87.650801  LINCOLN PARK   \n",
       "2      4446 N PARKSIDE AVE  41.961867 -87.768828  PORTAGE PARK   \n",
       "3      6964 W DIVERSEY AVE  41.931001 -87.800237     MONTCLARE   \n",
       "4  2336 N COMMONWEALTH AVE  41.924814 -87.638585  LINCOLN PARK   \n",
       "\n",
       "  community_area_code  \n",
       "0                  76  \n",
       "1                   7  \n",
       "2                  15  \n",
       "3                  18  \n",
       "4                   7  "
      ]
     },
     "execution_count": 68,
     "metadata": {},
     "output_type": "execute_result"
    }
   ],
   "source": [
    "house_loc_filtered['community'] = community_name\n",
    "house_loc_filtered['community_area_code'] = community_code\n",
    "house_loc_filtered.head()"
   ]
  },
  {
   "cell_type": "code",
   "execution_count": 69,
   "metadata": {},
   "outputs": [
    {
     "name": "stdout",
     "output_type": "stream",
     "text": [
      "(219, 5)\n",
      "(185, 5)\n"
     ]
    }
   ],
   "source": [
    "print(house_loc_filtered.shape)\n",
    "house_loc_filtered.dropna(subset = 'community_area_code',inplace = True)\n",
    "print(house_loc_filtered.shape)"
   ]
  },
  {
   "cell_type": "code",
   "execution_count": 70,
   "metadata": {},
   "outputs": [
    {
     "data": {
      "text/html": [
       "<div>\n",
       "<style scoped>\n",
       "    .dataframe tbody tr th:only-of-type {\n",
       "        vertical-align: middle;\n",
       "    }\n",
       "\n",
       "    .dataframe tbody tr th {\n",
       "        vertical-align: top;\n",
       "    }\n",
       "\n",
       "    .dataframe thead th {\n",
       "        text-align: right;\n",
       "    }\n",
       "</style>\n",
       "<table border=\"1\" class=\"dataframe\">\n",
       "  <thead>\n",
       "    <tr style=\"text-align: right;\">\n",
       "      <th></th>\n",
       "      <th>address</th>\n",
       "      <th>latitude</th>\n",
       "      <th>longitude</th>\n",
       "      <th>community</th>\n",
       "      <th>community_area_code</th>\n",
       "    </tr>\n",
       "  </thead>\n",
       "  <tbody>\n",
       "    <tr>\n",
       "      <th>0</th>\n",
       "      <td>5313 N DELPHIA AVE</td>\n",
       "      <td>41.975871</td>\n",
       "      <td>-87.841434</td>\n",
       "      <td>OHARE</td>\n",
       "      <td>76</td>\n",
       "    </tr>\n",
       "    <tr>\n",
       "      <th>1</th>\n",
       "      <td>2221 N FREMONT ST</td>\n",
       "      <td>41.922454</td>\n",
       "      <td>-87.650801</td>\n",
       "      <td>LINCOLN PARK</td>\n",
       "      <td>7</td>\n",
       "    </tr>\n",
       "    <tr>\n",
       "      <th>2</th>\n",
       "      <td>4446 N PARKSIDE AVE</td>\n",
       "      <td>41.961867</td>\n",
       "      <td>-87.768828</td>\n",
       "      <td>PORTAGE PARK</td>\n",
       "      <td>15</td>\n",
       "    </tr>\n",
       "    <tr>\n",
       "      <th>3</th>\n",
       "      <td>6964 W DIVERSEY AVE</td>\n",
       "      <td>41.931001</td>\n",
       "      <td>-87.800237</td>\n",
       "      <td>MONTCLARE</td>\n",
       "      <td>18</td>\n",
       "    </tr>\n",
       "    <tr>\n",
       "      <th>4</th>\n",
       "      <td>2336 N COMMONWEALTH AVE</td>\n",
       "      <td>41.924814</td>\n",
       "      <td>-87.638585</td>\n",
       "      <td>LINCOLN PARK</td>\n",
       "      <td>7</td>\n",
       "    </tr>\n",
       "  </tbody>\n",
       "</table>\n",
       "</div>"
      ],
      "text/plain": [
       "                   address   latitude  longitude     community  \\\n",
       "0       5313 N DELPHIA AVE  41.975871 -87.841434         OHARE   \n",
       "1        2221 N FREMONT ST  41.922454 -87.650801  LINCOLN PARK   \n",
       "2      4446 N PARKSIDE AVE  41.961867 -87.768828  PORTAGE PARK   \n",
       "3      6964 W DIVERSEY AVE  41.931001 -87.800237     MONTCLARE   \n",
       "4  2336 N COMMONWEALTH AVE  41.924814 -87.638585  LINCOLN PARK   \n",
       "\n",
       "  community_area_code  \n",
       "0                  76  \n",
       "1                   7  \n",
       "2                  15  \n",
       "3                  18  \n",
       "4                   7  "
      ]
     },
     "execution_count": 70,
     "metadata": {},
     "output_type": "execute_result"
    }
   ],
   "source": [
    "house_loc_filtered.head()"
   ]
  },
  {
   "cell_type": "code",
   "execution_count": null,
   "metadata": {},
   "outputs": [],
   "source": []
  }
 ],
 "metadata": {
  "kernelspec": {
   "display_name": "Python 3",
   "language": "python",
   "name": "python3"
  },
  "language_info": {
   "codemirror_mode": {
    "name": "ipython",
    "version": 3
   },
   "file_extension": ".py",
   "mimetype": "text/x-python",
   "name": "python",
   "nbconvert_exporter": "python",
   "pygments_lexer": "ipython3",
   "version": "3.7.3"
  }
 },
 "nbformat": 4,
 "nbformat_minor": 4
}
