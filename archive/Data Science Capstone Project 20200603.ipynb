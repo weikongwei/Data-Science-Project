{
 "cells": [
  {
   "cell_type": "markdown",
   "metadata": {},
   "source": [
    "# Data Science Capstone Project"
   ]
  },
  {
   "cell_type": "markdown",
   "metadata": {},
   "source": [
    "This project is to practice all skills learn from the entire course and apply those knowledge to a near industrial project."
   ]
  },
  {
   "cell_type": "code",
   "execution_count": 127,
   "metadata": {},
   "outputs": [
    {
     "name": "stdout",
     "output_type": "stream",
     "text": [
      "Libraries imported.\n",
      "The sql extension is already loaded. To reload it, use:\n",
      "  %reload_ext sql\n",
      "Hello Capstone Project Course!\n"
     ]
    }
   ],
   "source": [
    "# To purse JSON and geoJSON\n",
    "import json\n",
    "from shapely.geometry import shape, Point   # Depending on your version, use: from shapely.geometry import shape, Point\n",
    "\n",
    "# !pip install geocoder\n",
    "import geocoder\n",
    "\n",
    "import numpy as np # library to handle data in a vectorized manner\n",
    "\n",
    "import pandas as pd # library for data analsysis\n",
    "pd.set_option('display.max_columns', None)\n",
    "pd.set_option('display.max_rows', None)\n",
    "\n",
    "# !conda install -c conda-forge geopy --yes # uncomment this line if you haven't completed the Foursquare API lab\n",
    "from geopy.geocoders import Nominatim # convert an address into latitude and longitude values\n",
    "\n",
    "# Matplotlib and associated plotting modules\n",
    "import matplotlib.cm as cm\n",
    "import matplotlib.colors as colors\n",
    "import matplotlib.pyplot as plt\n",
    "\n",
    "# import k-means from clustering stage\n",
    "from sklearn.cluster import KMeans\n",
    "\n",
    "#!conda install -c conda-forge folium=0.5.0 --yes # uncomment this line if you haven't completed the Foursquare API lab\n",
    "import folium # map rendering library\n",
    "\n",
    "print('Libraries imported.')\n",
    "\n",
    "%load_ext sql\n",
    "%matplotlib inline\n",
    "\n",
    "# Enable IBM_db2 Database Access\n",
    "%sql ibm_db_sa://trj52137:z89xgm4f30nmqh%5Eg@dashdb-txn-sbox-yp-dal09-08.services.dal.bluemix.net:50000/BLUDB\n",
    "\n",
    "print('Hello Capstone Project Course!')"
   ]
  },
  {
   "cell_type": "code",
   "execution_count": 220,
   "metadata": {},
   "outputs": [
    {
     "name": "stderr",
     "output_type": "stream",
     "text": [
      "WARNING:root:Requests made without an app_token will be subject to strict throttling limits.\n"
     ]
    }
   ],
   "source": [
    "# Importing Cook County Housing Sales Data using API provided by Cook County\n",
    "\n",
    "# make sure to install these packages before running:\n",
    "# pip install pandas\n",
    "# !pip install sodapy\n",
    "\n",
    "import pandas as pd\n",
    "from sodapy import Socrata\n",
    "\n",
    "# Unauthenticated client only works with public data sets. Note 'None'\n",
    "# in place of application token, and no username or password:\n",
    "client = Socrata(\"datacatalog.cookcountyil.gov\", None)\n",
    "\n",
    "# Example authenticated client (needed for non-public datasets):\n",
    "# client = Socrata(datacatalog.cookcountyil.gov,\n",
    "#                  MyAppToken,\n",
    "#                  userame=\"user@example.com\",\n",
    "#                  password=\"AFakePassword\")\n",
    "\n",
    "# First 2000 results, returned as JSON from API / converted to Python list of\n",
    "# dictionaries by sodapy.\n",
    "results = client.get(\"5pge-nu6u\", limit=2000)\n",
    "\n",
    "# Convert to pandas DataFrame\n",
    "results_df = pd.DataFrame.from_records(results)\n",
    "sale_2018 = results_df[results_df['sale_year']=='2018']\n",
    "sale_2018 = sale_2018.reset_index(drop = True)\n",
    "# sale_2018.head()\n",
    "house_location = pd.DataFrame(columns = ['address','latitude','longitude'])\n",
    "house_location['address'] = sale_2018['addr']"
   ]
  },
  {
   "cell_type": "code",
   "execution_count": 221,
   "metadata": {},
   "outputs": [],
   "source": [
    "# # Testing for the code in the loop below\n",
    "# address = house_location['address'].iloc[0] + \",Chicago, IL, USA\"\n",
    "# location = geolocator.geocode(address)\n",
    "# print(location)"
   ]
  },
  {
   "cell_type": "code",
   "execution_count": 222,
   "metadata": {},
   "outputs": [],
   "source": [
    "# Getting coordinations for each house sold in 2018\n",
    "house_latitudes = []\n",
    "house_longitudes = []\n",
    "geolocator = Nominatim(user_agent=\"house_explorer\")\n",
    "\n",
    "for i in range(house_adrs.shape[0]):\n",
    "    address = house_location['address'].iloc[i] + \", Chicago, IL, USA\"\n",
    "    location = geolocator.geocode(address)\n",
    "    if location == None:\n",
    "        house_latitudes.append(np.nan)\n",
    "        house_longitudes.append(np.nan)\n",
    "    else:\n",
    "        house_latitudes.append(location.latitude)\n",
    "        house_longitudes.append(location.longitude)\n",
    "    \n",
    "house_location['latitude'] = house_latitudes\n",
    "house_location['longitude'] = house_longitudes"
   ]
  },
  {
   "cell_type": "code",
   "execution_count": 223,
   "metadata": {},
   "outputs": [
    {
     "data": {
      "text/html": [
       "<div>\n",
       "<style scoped>\n",
       "    .dataframe tbody tr th:only-of-type {\n",
       "        vertical-align: middle;\n",
       "    }\n",
       "\n",
       "    .dataframe tbody tr th {\n",
       "        vertical-align: top;\n",
       "    }\n",
       "\n",
       "    .dataframe thead th {\n",
       "        text-align: right;\n",
       "    }\n",
       "</style>\n",
       "<table border=\"1\" class=\"dataframe\">\n",
       "  <thead>\n",
       "    <tr style=\"text-align: right;\">\n",
       "      <th></th>\n",
       "      <th>address</th>\n",
       "      <th>latitude</th>\n",
       "      <th>longitude</th>\n",
       "    </tr>\n",
       "  </thead>\n",
       "  <tbody>\n",
       "    <tr>\n",
       "      <th>0</th>\n",
       "      <td>4431 PRESCOTT AVE</td>\n",
       "      <td>NaN</td>\n",
       "      <td>NaN</td>\n",
       "    </tr>\n",
       "    <tr>\n",
       "      <th>1</th>\n",
       "      <td>5313 N DELPHIA AVE</td>\n",
       "      <td>41.975871</td>\n",
       "      <td>-87.841434</td>\n",
       "    </tr>\n",
       "    <tr>\n",
       "      <th>2</th>\n",
       "      <td>2221 N FREMONT ST</td>\n",
       "      <td>41.922454</td>\n",
       "      <td>-87.650801</td>\n",
       "    </tr>\n",
       "    <tr>\n",
       "      <th>3</th>\n",
       "      <td>4446 N PARKSIDE AVE</td>\n",
       "      <td>41.961867</td>\n",
       "      <td>-87.768828</td>\n",
       "    </tr>\n",
       "    <tr>\n",
       "      <th>4</th>\n",
       "      <td>1926 PRAIRIE SQUARE</td>\n",
       "      <td>NaN</td>\n",
       "      <td>NaN</td>\n",
       "    </tr>\n",
       "  </tbody>\n",
       "</table>\n",
       "</div>"
      ],
      "text/plain": [
       "               address   latitude  longitude\n",
       "0    4431 PRESCOTT AVE        NaN        NaN\n",
       "1   5313 N DELPHIA AVE  41.975871 -87.841434\n",
       "2    2221 N FREMONT ST  41.922454 -87.650801\n",
       "3  4446 N PARKSIDE AVE  41.961867 -87.768828\n",
       "4  1926 PRAIRIE SQUARE        NaN        NaN"
      ]
     },
     "execution_count": 223,
     "metadata": {},
     "output_type": "execute_result"
    }
   ],
   "source": [
    "house_location.head()"
   ]
  },
  {
   "cell_type": "code",
   "execution_count": 226,
   "metadata": {},
   "outputs": [
    {
     "name": "stdout",
     "output_type": "stream",
     "text": [
      "(219, 3)\n"
     ]
    },
    {
     "data": {
      "text/html": [
       "<div>\n",
       "<style scoped>\n",
       "    .dataframe tbody tr th:only-of-type {\n",
       "        vertical-align: middle;\n",
       "    }\n",
       "\n",
       "    .dataframe tbody tr th {\n",
       "        vertical-align: top;\n",
       "    }\n",
       "\n",
       "    .dataframe thead th {\n",
       "        text-align: right;\n",
       "    }\n",
       "</style>\n",
       "<table border=\"1\" class=\"dataframe\">\n",
       "  <thead>\n",
       "    <tr style=\"text-align: right;\">\n",
       "      <th></th>\n",
       "      <th>address</th>\n",
       "      <th>latitude</th>\n",
       "      <th>longitude</th>\n",
       "    </tr>\n",
       "  </thead>\n",
       "  <tbody>\n",
       "    <tr>\n",
       "      <th>0</th>\n",
       "      <td>5313 N DELPHIA AVE</td>\n",
       "      <td>41.975871</td>\n",
       "      <td>-87.841434</td>\n",
       "    </tr>\n",
       "    <tr>\n",
       "      <th>1</th>\n",
       "      <td>2221 N FREMONT ST</td>\n",
       "      <td>41.922454</td>\n",
       "      <td>-87.650801</td>\n",
       "    </tr>\n",
       "    <tr>\n",
       "      <th>2</th>\n",
       "      <td>4446 N PARKSIDE AVE</td>\n",
       "      <td>41.961867</td>\n",
       "      <td>-87.768828</td>\n",
       "    </tr>\n",
       "    <tr>\n",
       "      <th>3</th>\n",
       "      <td>6964 W DIVERSEY AVE</td>\n",
       "      <td>41.931001</td>\n",
       "      <td>-87.800237</td>\n",
       "    </tr>\n",
       "    <tr>\n",
       "      <th>4</th>\n",
       "      <td>2336 N COMMONWEALTH AVE</td>\n",
       "      <td>41.924814</td>\n",
       "      <td>-87.638585</td>\n",
       "    </tr>\n",
       "  </tbody>\n",
       "</table>\n",
       "</div>"
      ],
      "text/plain": [
       "                   address   latitude  longitude\n",
       "0       5313 N DELPHIA AVE  41.975871 -87.841434\n",
       "1        2221 N FREMONT ST  41.922454 -87.650801\n",
       "2      4446 N PARKSIDE AVE  41.961867 -87.768828\n",
       "3      6964 W DIVERSEY AVE  41.931001 -87.800237\n",
       "4  2336 N COMMONWEALTH AVE  41.924814 -87.638585"
      ]
     },
     "execution_count": 226,
     "metadata": {},
     "output_type": "execute_result"
    }
   ],
   "source": [
    "# Dropping addresses not in Chicago\n",
    "house_loc_filtered = house_location.dropna().reset_index(drop=True)\n",
    "print(house_loc_filtered.shape)\n",
    "house_loc_filtered.head()"
   ]
  },
  {
   "cell_type": "code",
   "execution_count": 238,
   "metadata": {},
   "outputs": [],
   "source": [
    "house_loc_filtered.to_csv('data/Chicago_address.csv', index = False)"
   ]
  },
  {
   "cell_type": "code",
   "execution_count": 235,
   "metadata": {},
   "outputs": [],
   "source": [
    "# This function requires a latitude, a longitude, and a loaded geoJSON file as inputs \n",
    "def comm_finder(lat, lng, js):\n",
    "    # construct point based on lon/lat returned by geocoder\n",
    "    point = Point(lng, lat)  # Point class from shapely library\n",
    "\n",
    "    # check each polygon to see if it contains the point\n",
    "    for feature in js['features']:\n",
    "        polygon = shape(feature['geometry']) # shape method from shapely library\n",
    "        if polygon.contains(point):\n",
    "            return (feature['properties'][\"community\"],feature['properties'][\"area_numbe\"])\n",
    "        else:\n",
    "            return (np.nan,np.nan)"
   ]
  },
  {
   "cell_type": "code",
   "execution_count": 233,
   "metadata": {},
   "outputs": [],
   "source": [
    "# load GeoJSON file containing sectors\n",
    "with open('data/Boundaries_Community_Areas.geojson') as f:\n",
    "    js = json.load(f)\n",
    "\n",
    "community_name = []\n",
    "community_code = []\n",
    "\n",
    "for lat, lng in zip(house_loc_filtered['latitude'],house_loc_filtered['longitude']):\n",
    "    cmm, cmm_num = comm_finder(lat, lng, js)\n",
    "    community_name.append(cmm)\n",
    "    community_name.append(cmm_num)"
   ]
  },
  {
   "cell_type": "code",
   "execution_count": null,
   "metadata": {},
   "outputs": [],
   "source": []
  },
  {
   "cell_type": "code",
   "execution_count": null,
   "metadata": {},
   "outputs": [],
   "source": []
  },
  {
   "cell_type": "code",
   "execution_count": null,
   "metadata": {},
   "outputs": [],
   "source": []
  },
  {
   "cell_type": "markdown",
   "metadata": {},
   "source": [
    "### 1. Finding Best Neighborhoods Based on Census Data"
   ]
  },
  {
   "cell_type": "markdown",
   "metadata": {},
   "source": [
    "#### 1.1 Load Data and Find Top 10"
   ]
  },
  {
   "cell_type": "code",
   "execution_count": 166,
   "metadata": {},
   "outputs": [
    {
     "name": "stdout",
     "output_type": "stream",
     "text": [
      " * ibm_db_sa://trj52137:***@dashdb-txn-sbox-yp-dal09-08.services.dal.bluemix.net:50000/BLUDB\n",
      "Done.\n"
     ]
    }
   ],
   "source": [
    "# Getting Census Data form IBM_DB2 SQL Database\n",
    "\n",
    "nbhd_hardship = %sql SELECT hardship_index, community_area_name, community_area_number, percent_aged_25__without_high_school_diploma, per_capita_income FROM CENSUS_DATA ORDER BY hardship_index NULLS LAST;\n",
    "columns = ['hardship_index', 'community_area_name', 'community_area_number', 'percent_aged_25__without_high_school_diploma', 'per_capita_income']\n",
    "nbhd_hardship = pd.DataFrame(nbhd_hardship, columns = columns)\n",
    "chicago_avg = nbhd_hardship[nbhd_hardship['hardship_index'].isnull()]\n",
    "# print(nbhd_hardship.shape)\n",
    "nbhd_hardship.dropna(axis = 0, subset = ['community_area_number'],inplace = True)\n",
    "# print(nbhd_hardship.shape)\n",
    "nbhd_hardship['community_area_number'] = nbhd_hardship['community_area_number'].astype(int)"
   ]
  },
  {
   "cell_type": "code",
   "execution_count": 244,
   "metadata": {},
   "outputs": [
    {
     "data": {
      "text/html": [
       "<div>\n",
       "<style scoped>\n",
       "    .dataframe tbody tr th:only-of-type {\n",
       "        vertical-align: middle;\n",
       "    }\n",
       "\n",
       "    .dataframe tbody tr th {\n",
       "        vertical-align: top;\n",
       "    }\n",
       "\n",
       "    .dataframe thead th {\n",
       "        text-align: right;\n",
       "    }\n",
       "</style>\n",
       "<table border=\"1\" class=\"dataframe\">\n",
       "  <thead>\n",
       "    <tr style=\"text-align: right;\">\n",
       "      <th></th>\n",
       "      <th>hardship_index</th>\n",
       "      <th>community_area_name</th>\n",
       "      <th>community_area_number</th>\n",
       "      <th>percent_aged_25__without_high_school_diploma</th>\n",
       "      <th>per_capita_income</th>\n",
       "    </tr>\n",
       "  </thead>\n",
       "  <tbody>\n",
       "    <tr>\n",
       "      <th>0</th>\n",
       "      <td>1.0</td>\n",
       "      <td>Near North Side</td>\n",
       "      <td>8</td>\n",
       "      <td>2.5</td>\n",
       "      <td>88669</td>\n",
       "    </tr>\n",
       "    <tr>\n",
       "      <th>1</th>\n",
       "      <td>2.0</td>\n",
       "      <td>Lincoln Park</td>\n",
       "      <td>7</td>\n",
       "      <td>3.6</td>\n",
       "      <td>71551</td>\n",
       "    </tr>\n",
       "    <tr>\n",
       "      <th>2</th>\n",
       "      <td>3.0</td>\n",
       "      <td>Loop</td>\n",
       "      <td>32</td>\n",
       "      <td>3.1</td>\n",
       "      <td>65526</td>\n",
       "    </tr>\n",
       "    <tr>\n",
       "      <th>3</th>\n",
       "      <td>5.0</td>\n",
       "      <td>Lake View</td>\n",
       "      <td>6</td>\n",
       "      <td>2.6</td>\n",
       "      <td>60058</td>\n",
       "    </tr>\n",
       "    <tr>\n",
       "      <th>4</th>\n",
       "      <td>6.0</td>\n",
       "      <td>North Center</td>\n",
       "      <td>5</td>\n",
       "      <td>4.5</td>\n",
       "      <td>57123</td>\n",
       "    </tr>\n",
       "  </tbody>\n",
       "</table>\n",
       "</div>"
      ],
      "text/plain": [
       "   hardship_index community_area_name  community_area_number  \\\n",
       "0             1.0     Near North Side                      8   \n",
       "1             2.0        Lincoln Park                      7   \n",
       "2             3.0                Loop                     32   \n",
       "3             5.0           Lake View                      6   \n",
       "4             6.0        North Center                      5   \n",
       "\n",
       "  percent_aged_25__without_high_school_diploma  per_capita_income  \n",
       "0                                          2.5              88669  \n",
       "1                                          3.6              71551  \n",
       "2                                          3.1              65526  \n",
       "3                                          2.6              60058  \n",
       "4                                          4.5              57123  "
      ]
     },
     "execution_count": 244,
     "metadata": {},
     "output_type": "execute_result"
    }
   ],
   "source": [
    "nbhd_hardship.head() \n",
    "# contains all community areas\n",
    "# can be combined with all other fators for machine learning algorithm'use"
   ]
  },
  {
   "cell_type": "markdown",
   "metadata": {},
   "source": [
    "#### 1.2 Finding coordinates for top 10 neighborhoods"
   ]
  },
  {
   "cell_type": "code",
   "execution_count": 168,
   "metadata": {},
   "outputs": [],
   "source": [
    "nbhd_rank_hd = nbhd_hardship.head(10)"
   ]
  },
  {
   "cell_type": "code",
   "execution_count": 169,
   "metadata": {},
   "outputs": [
    {
     "name": "stderr",
     "output_type": "stream",
     "text": [
      "C:\\ProgramData\\Anaconda3\\lib\\site-packages\\ipykernel_launcher.py:12: SettingWithCopyWarning: \n",
      "A value is trying to be set on a copy of a slice from a DataFrame.\n",
      "Try using .loc[row_indexer,col_indexer] = value instead\n",
      "\n",
      "See the caveats in the documentation: http://pandas.pydata.org/pandas-docs/stable/indexing.html#indexing-view-versus-copy\n",
      "  if sys.path[0] == '':\n",
      "C:\\ProgramData\\Anaconda3\\lib\\site-packages\\ipykernel_launcher.py:13: SettingWithCopyWarning: \n",
      "A value is trying to be set on a copy of a slice from a DataFrame.\n",
      "Try using .loc[row_indexer,col_indexer] = value instead\n",
      "\n",
      "See the caveats in the documentation: http://pandas.pydata.org/pandas-docs/stable/indexing.html#indexing-view-versus-copy\n",
      "  del sys.path[0]\n"
     ]
    },
    {
     "data": {
      "text/html": [
       "<div>\n",
       "<style scoped>\n",
       "    .dataframe tbody tr th:only-of-type {\n",
       "        vertical-align: middle;\n",
       "    }\n",
       "\n",
       "    .dataframe tbody tr th {\n",
       "        vertical-align: top;\n",
       "    }\n",
       "\n",
       "    .dataframe thead th {\n",
       "        text-align: right;\n",
       "    }\n",
       "</style>\n",
       "<table border=\"1\" class=\"dataframe\">\n",
       "  <thead>\n",
       "    <tr style=\"text-align: right;\">\n",
       "      <th></th>\n",
       "      <th>hardship_index</th>\n",
       "      <th>community_area_name</th>\n",
       "      <th>community_area_number</th>\n",
       "      <th>percent_aged_25__without_high_school_diploma</th>\n",
       "      <th>per_capita_income</th>\n",
       "      <th>latitude</th>\n",
       "      <th>longitude</th>\n",
       "    </tr>\n",
       "  </thead>\n",
       "  <tbody>\n",
       "    <tr>\n",
       "      <th>0</th>\n",
       "      <td>1.0</td>\n",
       "      <td>Near North Side</td>\n",
       "      <td>8</td>\n",
       "      <td>2.5</td>\n",
       "      <td>88669</td>\n",
       "      <td>41.900033</td>\n",
       "      <td>-87.634497</td>\n",
       "    </tr>\n",
       "    <tr>\n",
       "      <th>1</th>\n",
       "      <td>2.0</td>\n",
       "      <td>Lincoln Park</td>\n",
       "      <td>7</td>\n",
       "      <td>3.6</td>\n",
       "      <td>71551</td>\n",
       "      <td>41.940298</td>\n",
       "      <td>-87.638117</td>\n",
       "    </tr>\n",
       "    <tr>\n",
       "      <th>2</th>\n",
       "      <td>3.0</td>\n",
       "      <td>Loop</td>\n",
       "      <td>32</td>\n",
       "      <td>3.1</td>\n",
       "      <td>65526</td>\n",
       "      <td>41.881609</td>\n",
       "      <td>-87.629457</td>\n",
       "    </tr>\n",
       "    <tr>\n",
       "      <th>3</th>\n",
       "      <td>5.0</td>\n",
       "      <td>Lake View</td>\n",
       "      <td>6</td>\n",
       "      <td>2.6</td>\n",
       "      <td>60058</td>\n",
       "      <td>41.947050</td>\n",
       "      <td>-87.655429</td>\n",
       "    </tr>\n",
       "    <tr>\n",
       "      <th>4</th>\n",
       "      <td>6.0</td>\n",
       "      <td>North Center</td>\n",
       "      <td>5</td>\n",
       "      <td>4.5</td>\n",
       "      <td>57123</td>\n",
       "      <td>41.956107</td>\n",
       "      <td>-87.679160</td>\n",
       "    </tr>\n",
       "  </tbody>\n",
       "</table>\n",
       "</div>"
      ],
      "text/plain": [
       "   hardship_index community_area_name  community_area_number  \\\n",
       "0             1.0     Near North Side                      8   \n",
       "1             2.0        Lincoln Park                      7   \n",
       "2             3.0                Loop                     32   \n",
       "3             5.0           Lake View                      6   \n",
       "4             6.0        North Center                      5   \n",
       "\n",
       "  percent_aged_25__without_high_school_diploma  per_capita_income   latitude  \\\n",
       "0                                          2.5              88669  41.900033   \n",
       "1                                          3.6              71551  41.940298   \n",
       "2                                          3.1              65526  41.881609   \n",
       "3                                          2.6              60058  41.947050   \n",
       "4                                          4.5              57123  41.956107   \n",
       "\n",
       "   longitude  \n",
       "0 -87.634497  \n",
       "1 -87.638117  \n",
       "2 -87.629457  \n",
       "3 -87.655429  \n",
       "4 -87.679160  "
      ]
     },
     "execution_count": 169,
     "metadata": {},
     "output_type": "execute_result"
    }
   ],
   "source": [
    "# Getting coordinations for each neighborhood\n",
    "latitudes = []\n",
    "longitudes = []\n",
    "geolocator = Nominatim(user_agent=\"nb_explorer\")\n",
    "\n",
    "for i in range(nbhd_rank_hd.shape[0]):\n",
    "    address = nbhd_rank_hd['community_area_name'].iloc[i] + \",Chicago, IL, USA\"\n",
    "    location = geolocator.geocode(address)\n",
    "    latitudes.append(location.latitude)\n",
    "    longitudes.append(location.longitude)\n",
    "    \n",
    "nbhd_rank_hd['latitude'] = latitudes\n",
    "nbhd_rank_hd['longitude'] = longitudes\n",
    "\n",
    "nbhd_rank_hd.head()"
   ]
  },
  {
   "cell_type": "markdown",
   "metadata": {},
   "source": [
    "#### 1.3 Showing Top 10 Neighborhoods on Maps"
   ]
  },
  {
   "cell_type": "code",
   "execution_count": 170,
   "metadata": {},
   "outputs": [
    {
     "name": "stdout",
     "output_type": "stream",
     "text": [
      "The geograpical coordinate of Chicago City are 41.8755616, -87.6244212.\n"
     ]
    }
   ],
   "source": [
    "# Getting coordinations for Chicago\n",
    "address = 'Chicago, IL, USA'\n",
    "\n",
    "geolocator = Nominatim(user_agent=\"Chica_explorer\")\n",
    "location = geolocator.geocode(address)\n",
    "chica_latitude = location.latitude\n",
    "Chica_longitude = location.longitude\n",
    "print('The geograpical coordinate of Chicago City are {}, {}.'.format(chica_latitude, Chica_longitude))"
   ]
  },
  {
   "cell_type": "code",
   "execution_count": 175,
   "metadata": {},
   "outputs": [
    {
     "data": {
      "text/html": [
       "<div style=\"width:100%;\"><div style=\"position:relative;width:100%;height:0;padding-bottom:60%;\"><span style=\"color:#565656\">Make this Notebook Trusted to load map: File -> Trust Notebook</span><iframe src=\"about:blank\" style=\"position:absolute;width:100%;height:100%;left:0;top:0;border:none !important;\" data-html=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 onload=\"this.contentDocument.open();this.contentDocument.write(atob(this.getAttribute('data-html')));this.contentDocument.close();\" allowfullscreen webkitallowfullscreen mozallowfullscreen></iframe></div></div>"
      ],
      "text/plain": [
       "<folium.folium.Map at 0x152ddf4a208>"
      ]
     },
     "execution_count": 175,
     "metadata": {},
     "output_type": "execute_result"
    }
   ],
   "source": [
    "map_chicago = folium.Map(location=[chica_latitude, Chica_longitude], zoom_start=10)\n",
    "\n",
    "# add markers to map\n",
    "for lat, lng, hd_index, neighborhood in zip(nbhd_rank_hd['latitude'], nbhd_rank_hd['longitude'], nbhd_rank_hd['hardship_index'], nbhd_rank_hd['community_area_name']):\n",
    "    label = '{}, {}'.format(neighborhood, hd_index)\n",
    "    label = folium.Popup(label, parse_html=True)\n",
    "    folium.CircleMarker(\n",
    "        [lat, lng],\n",
    "        radius=5,\n",
    "        popup=label,\n",
    "        color='blue',\n",
    "        fill=True,\n",
    "        fill_color='#3186cc',\n",
    "        fill_opacity=0.7,\n",
    "        parse_html=False).add_to(map_chicago)  \n",
    "    \n",
    "map_chicago # showing neighborhoods on map"
   ]
  },
  {
   "cell_type": "code",
   "execution_count": null,
   "metadata": {},
   "outputs": [],
   "source": []
  },
  {
   "cell_type": "code",
   "execution_count": null,
   "metadata": {},
   "outputs": [],
   "source": []
  },
  {
   "cell_type": "code",
   "execution_count": null,
   "metadata": {},
   "outputs": [],
   "source": []
  },
  {
   "cell_type": "code",
   "execution_count": 101,
   "metadata": {},
   "outputs": [
    {
     "name": "stdout",
     "output_type": "stream",
     "text": [
      " * ibm_db_sa://trj52137:***@dashdb-txn-sbox-yp-dal09-08.services.dal.bluemix.net:50000/BLUDB\n",
      "Done.\n",
      "(78, 9)\n",
      "(77, 9)\n"
     ]
    }
   ],
   "source": [
    "# Getting census data from IBM_DB2 SQL database\n",
    "\n",
    "census = %sql SELECT * FROM CENSUS_DATA;\n",
    "columns = ['community_area_number','community_area_name','percent_of_housing_crowded','percent_households_below_poverty', 'percent_aged_16__unemployed','percent_aged_25__without_high_school_diploma','percent_aged_under_18_or_over_64','per_capita_income','hardship_index']\n",
    "census = pd.DataFrame(census, columns = columns)\n",
    "print(census.shape)\n",
    "census.dropna(axis = 0, subset = ['community_area_number'],inplace = True)\n",
    "print(census.shape)\n",
    "census['community_area_number'] = census['community_area_number'].astype(int)"
   ]
  },
  {
   "cell_type": "code",
   "execution_count": 102,
   "metadata": {},
   "outputs": [
    {
     "data": {
      "text/html": [
       "<div>\n",
       "<style scoped>\n",
       "    .dataframe tbody tr th:only-of-type {\n",
       "        vertical-align: middle;\n",
       "    }\n",
       "\n",
       "    .dataframe tbody tr th {\n",
       "        vertical-align: top;\n",
       "    }\n",
       "\n",
       "    .dataframe thead th {\n",
       "        text-align: right;\n",
       "    }\n",
       "</style>\n",
       "<table border=\"1\" class=\"dataframe\">\n",
       "  <thead>\n",
       "    <tr style=\"text-align: right;\">\n",
       "      <th></th>\n",
       "      <th>community_area_number</th>\n",
       "      <th>community_area_name</th>\n",
       "      <th>percent_of_housing_crowded</th>\n",
       "      <th>percent_households_below_poverty</th>\n",
       "      <th>percent_aged_16__unemployed</th>\n",
       "      <th>percent_aged_25__without_high_school_diploma</th>\n",
       "      <th>percent_aged_under_18_or_over_64</th>\n",
       "      <th>per_capita_income</th>\n",
       "      <th>hardship_index</th>\n",
       "    </tr>\n",
       "  </thead>\n",
       "  <tbody>\n",
       "    <tr>\n",
       "      <th>0</th>\n",
       "      <td>1</td>\n",
       "      <td>Rogers Park</td>\n",
       "      <td>7.7</td>\n",
       "      <td>23.6</td>\n",
       "      <td>8.7</td>\n",
       "      <td>18.2</td>\n",
       "      <td>27.5</td>\n",
       "      <td>23939</td>\n",
       "      <td>39.0</td>\n",
       "    </tr>\n",
       "    <tr>\n",
       "      <th>1</th>\n",
       "      <td>2</td>\n",
       "      <td>West Ridge</td>\n",
       "      <td>7.8</td>\n",
       "      <td>17.2</td>\n",
       "      <td>8.8</td>\n",
       "      <td>20.8</td>\n",
       "      <td>38.5</td>\n",
       "      <td>23040</td>\n",
       "      <td>46.0</td>\n",
       "    </tr>\n",
       "    <tr>\n",
       "      <th>2</th>\n",
       "      <td>3</td>\n",
       "      <td>Uptown</td>\n",
       "      <td>3.8</td>\n",
       "      <td>24.0</td>\n",
       "      <td>8.9</td>\n",
       "      <td>11.8</td>\n",
       "      <td>22.2</td>\n",
       "      <td>35787</td>\n",
       "      <td>20.0</td>\n",
       "    </tr>\n",
       "    <tr>\n",
       "      <th>3</th>\n",
       "      <td>4</td>\n",
       "      <td>Lincoln Square</td>\n",
       "      <td>3.4</td>\n",
       "      <td>10.9</td>\n",
       "      <td>8.2</td>\n",
       "      <td>13.4</td>\n",
       "      <td>25.5</td>\n",
       "      <td>37524</td>\n",
       "      <td>17.0</td>\n",
       "    </tr>\n",
       "    <tr>\n",
       "      <th>4</th>\n",
       "      <td>5</td>\n",
       "      <td>North Center</td>\n",
       "      <td>0.3</td>\n",
       "      <td>7.5</td>\n",
       "      <td>5.2</td>\n",
       "      <td>4.5</td>\n",
       "      <td>26.2</td>\n",
       "      <td>57123</td>\n",
       "      <td>6.0</td>\n",
       "    </tr>\n",
       "  </tbody>\n",
       "</table>\n",
       "</div>"
      ],
      "text/plain": [
       "   community_area_number community_area_name percent_of_housing_crowded  \\\n",
       "0                      1         Rogers Park                        7.7   \n",
       "1                      2          West Ridge                        7.8   \n",
       "2                      3              Uptown                        3.8   \n",
       "3                      4      Lincoln Square                        3.4   \n",
       "4                      5        North Center                        0.3   \n",
       "\n",
       "  percent_households_below_poverty percent_aged_16__unemployed  \\\n",
       "0                             23.6                         8.7   \n",
       "1                             17.2                         8.8   \n",
       "2                             24.0                         8.9   \n",
       "3                             10.9                         8.2   \n",
       "4                              7.5                         5.2   \n",
       "\n",
       "  percent_aged_25__without_high_school_diploma  \\\n",
       "0                                         18.2   \n",
       "1                                         20.8   \n",
       "2                                         11.8   \n",
       "3                                         13.4   \n",
       "4                                          4.5   \n",
       "\n",
       "  percent_aged_under_18_or_over_64  per_capita_income  hardship_index  \n",
       "0                             27.5              23939            39.0  \n",
       "1                             38.5              23040            46.0  \n",
       "2                             22.2              35787            20.0  \n",
       "3                             25.5              37524            17.0  \n",
       "4                             26.2              57123             6.0  "
      ]
     },
     "execution_count": 102,
     "metadata": {},
     "output_type": "execute_result"
    }
   ],
   "source": [
    "census.head()"
   ]
  },
  {
   "cell_type": "code",
   "execution_count": 105,
   "metadata": {},
   "outputs": [],
   "source": [
    "census = census.sort_values(by='hardship_index').reset_index(drop = True)"
   ]
  },
  {
   "cell_type": "code",
   "execution_count": 107,
   "metadata": {},
   "outputs": [],
   "source": [
    "census_sorted = census[['hardship_index','community_area_name','community_area_number','per_capita_income','percent_aged_25__without_high_school_diploma']]"
   ]
  },
  {
   "cell_type": "code",
   "execution_count": null,
   "metadata": {},
   "outputs": [],
   "source": []
  },
  {
   "cell_type": "code",
   "execution_count": null,
   "metadata": {},
   "outputs": [],
   "source": []
  },
  {
   "cell_type": "code",
   "execution_count": null,
   "metadata": {},
   "outputs": [],
   "source": []
  }
 ],
 "metadata": {
  "kernelspec": {
   "display_name": "Python 3",
   "language": "python",
   "name": "python3"
  },
  "language_info": {
   "codemirror_mode": {
    "name": "ipython",
    "version": 3
   },
   "file_extension": ".py",
   "mimetype": "text/x-python",
   "name": "python",
   "nbconvert_exporter": "python",
   "pygments_lexer": "ipython3",
   "version": "3.7.3"
  }
 },
 "nbformat": 4,
 "nbformat_minor": 4
}
