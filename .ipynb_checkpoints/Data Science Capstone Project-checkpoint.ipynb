{
 "cells": [
  {
   "cell_type": "markdown",
   "metadata": {},
   "source": [
    "# Data Science Capstone Project"
   ]
  },
  {
   "cell_type": "markdown",
   "metadata": {},
   "source": [
    "This project is to practice all skills learn from the entire course and apply those knowledge to a near industrial project."
   ]
  },
  {
   "cell_type": "code",
   "execution_count": 127,
   "metadata": {},
   "outputs": [
    {
     "name": "stdout",
     "output_type": "stream",
     "text": [
      "Libraries imported.\n",
      "The sql extension is already loaded. To reload it, use:\n",
      "  %reload_ext sql\n",
      "Hello Capstone Project Course!\n"
     ]
    }
   ],
   "source": [
    "# To purse JSON and geoJSON\n",
    "import json\n",
    "from shapely.geometry import shape, Point   # Depending on your version, use: from shapely.geometry import shape, Point\n",
    "\n",
    "# !pip install geocoder\n",
    "import geocoder\n",
    "\n",
    "import numpy as np # library to handle data in a vectorized manner\n",
    "\n",
    "import pandas as pd # library for data analsysis\n",
    "pd.set_option('display.max_columns', None)\n",
    "pd.set_option('display.max_rows', None)\n",
    "\n",
    "# !conda install -c conda-forge geopy --yes # uncomment this line if you haven't completed the Foursquare API lab\n",
    "from geopy.geocoders import Nominatim # convert an address into latitude and longitude values\n",
    "\n",
    "# Matplotlib and associated plotting modules\n",
    "import matplotlib.cm as cm\n",
    "import matplotlib.colors as colors\n",
    "import matplotlib.pyplot as plt\n",
    "\n",
    "# import k-means from clustering stage\n",
    "from sklearn.cluster import KMeans\n",
    "\n",
    "#!conda install -c conda-forge folium=0.5.0 --yes # uncomment this line if you haven't completed the Foursquare API lab\n",
    "import folium # map rendering library\n",
    "\n",
    "print('Libraries imported.')\n",
    "\n",
    "%load_ext sql\n",
    "%matplotlib inline\n",
    "\n",
    "# Enable IBM_db2 Database Access\n",
    "%sql ibm_db_sa://trj52137:z89xgm4f30nmqh%5Eg@dashdb-txn-sbox-yp-dal09-08.services.dal.bluemix.net:50000/BLUDB\n",
    "\n",
    "print('Hello Capstone Project Course!')"
   ]
  },
  {
   "cell_type": "code",
   "execution_count": 220,
   "metadata": {},
   "outputs": [
    {
     "name": "stderr",
     "output_type": "stream",
     "text": [
      "WARNING:root:Requests made without an app_token will be subject to strict throttling limits.\n"
     ]
    }
   ],
   "source": [
    "# Importing Cook County Housing Sales Data using API provided by Cook County\n",
    "\n",
    "# make sure to install these packages before running:\n",
    "# pip install pandas\n",
    "# !pip install sodapy\n",
    "\n",
    "import pandas as pd\n",
    "from sodapy import Socrata\n",
    "\n",
    "# Unauthenticated client only works with public data sets. Note 'None'\n",
    "# in place of application token, and no username or password:\n",
    "client = Socrata(\"datacatalog.cookcountyil.gov\", None)\n",
    "\n",
    "# Example authenticated client (needed for non-public datasets):\n",
    "# client = Socrata(datacatalog.cookcountyil.gov,\n",
    "#                  MyAppToken,\n",
    "#                  userame=\"user@example.com\",\n",
    "#                  password=\"AFakePassword\")\n",
    "\n",
    "# First 2000 results, returned as JSON from API / converted to Python list of\n",
    "# dictionaries by sodapy.\n",
    "results = client.get(\"5pge-nu6u\", limit=2000)\n",
    "\n",
    "# Convert to pandas DataFrame\n",
    "results_df = pd.DataFrame.from_records(results)\n",
    "sale_2018 = results_df[results_df['sale_year']=='2018']\n",
    "sale_2018 = sale_2018.reset_index(drop = True)\n",
    "# sale_2018.head()\n",
    "house_location = pd.DataFrame(columns = ['address','latitude','longitude'])\n",
    "house_location['address'] = sale_2018['addr']"
   ]
  },
  {
   "cell_type": "code",
   "execution_count": 221,
   "metadata": {},
   "outputs": [],
   "source": [
    "# # Testing for the code in the loop below\n",
    "# address = house_location['address'].iloc[0] + \",Chicago, IL, USA\"\n",
    "# location = geolocator.geocode(address)\n",
    "# print(location)"
   ]
  },
  {
   "cell_type": "code",
   "execution_count": 222,
   "metadata": {},
   "outputs": [],
   "source": [
    "# Getting coordinations for each house sold in 2018\n",
    "house_latitudes = []\n",
    "house_longitudes = []\n",
    "geolocator = Nominatim(user_agent=\"house_explorer\")\n",
    "\n",
    "for i in range(house_adrs.shape[0]):\n",
    "    address = house_location['address'].iloc[i] + \", Chicago, IL, USA\"\n",
    "    location = geolocator.geocode(address)\n",
    "    if location == None:\n",
    "        house_latitudes.append(np.nan)\n",
    "        house_longitudes.append(np.nan)\n",
    "    else:\n",
    "        house_latitudes.append(location.latitude)\n",
    "        house_longitudes.append(location.longitude)\n",
    "    \n",
    "house_location['latitude'] = house_latitudes\n",
    "house_location['longitude'] = house_longitudes"
   ]
  },
  {
   "cell_type": "code",
   "execution_count": 223,
   "metadata": {},
   "outputs": [
    {
     "data": {
      "text/html": [
       "<div>\n",
       "<style scoped>\n",
       "    .dataframe tbody tr th:only-of-type {\n",
       "        vertical-align: middle;\n",
       "    }\n",
       "\n",
       "    .dataframe tbody tr th {\n",
       "        vertical-align: top;\n",
       "    }\n",
       "\n",
       "    .dataframe thead th {\n",
       "        text-align: right;\n",
       "    }\n",
       "</style>\n",
       "<table border=\"1\" class=\"dataframe\">\n",
       "  <thead>\n",
       "    <tr style=\"text-align: right;\">\n",
       "      <th></th>\n",
       "      <th>address</th>\n",
       "      <th>latitude</th>\n",
       "      <th>longitude</th>\n",
       "    </tr>\n",
       "  </thead>\n",
       "  <tbody>\n",
       "    <tr>\n",
       "      <th>0</th>\n",
       "      <td>4431 PRESCOTT AVE</td>\n",
       "      <td>NaN</td>\n",
       "      <td>NaN</td>\n",
       "    </tr>\n",
       "    <tr>\n",
       "      <th>1</th>\n",
       "      <td>5313 N DELPHIA AVE</td>\n",
       "      <td>41.975871</td>\n",
       "      <td>-87.841434</td>\n",
       "    </tr>\n",
       "    <tr>\n",
       "      <th>2</th>\n",
       "      <td>2221 N FREMONT ST</td>\n",
       "      <td>41.922454</td>\n",
       "      <td>-87.650801</td>\n",
       "    </tr>\n",
       "    <tr>\n",
       "      <th>3</th>\n",
       "      <td>4446 N PARKSIDE AVE</td>\n",
       "      <td>41.961867</td>\n",
       "      <td>-87.768828</td>\n",
       "    </tr>\n",
       "    <tr>\n",
       "      <th>4</th>\n",
       "      <td>1926 PRAIRIE SQUARE</td>\n",
       "      <td>NaN</td>\n",
       "      <td>NaN</td>\n",
       "    </tr>\n",
       "  </tbody>\n",
       "</table>\n",
       "</div>"
      ],
      "text/plain": [
       "               address   latitude  longitude\n",
       "0    4431 PRESCOTT AVE        NaN        NaN\n",
       "1   5313 N DELPHIA AVE  41.975871 -87.841434\n",
       "2    2221 N FREMONT ST  41.922454 -87.650801\n",
       "3  4446 N PARKSIDE AVE  41.961867 -87.768828\n",
       "4  1926 PRAIRIE SQUARE        NaN        NaN"
      ]
     },
     "execution_count": 223,
     "metadata": {},
     "output_type": "execute_result"
    }
   ],
   "source": [
    "house_location.head()"
   ]
  },
  {
   "cell_type": "code",
   "execution_count": 226,
   "metadata": {},
   "outputs": [
    {
     "name": "stdout",
     "output_type": "stream",
     "text": [
      "(219, 3)\n"
     ]
    },
    {
     "data": {
      "text/html": [
       "<div>\n",
       "<style scoped>\n",
       "    .dataframe tbody tr th:only-of-type {\n",
       "        vertical-align: middle;\n",
       "    }\n",
       "\n",
       "    .dataframe tbody tr th {\n",
       "        vertical-align: top;\n",
       "    }\n",
       "\n",
       "    .dataframe thead th {\n",
       "        text-align: right;\n",
       "    }\n",
       "</style>\n",
       "<table border=\"1\" class=\"dataframe\">\n",
       "  <thead>\n",
       "    <tr style=\"text-align: right;\">\n",
       "      <th></th>\n",
       "      <th>address</th>\n",
       "      <th>latitude</th>\n",
       "      <th>longitude</th>\n",
       "    </tr>\n",
       "  </thead>\n",
       "  <tbody>\n",
       "    <tr>\n",
       "      <th>0</th>\n",
       "      <td>5313 N DELPHIA AVE</td>\n",
       "      <td>41.975871</td>\n",
       "      <td>-87.841434</td>\n",
       "    </tr>\n",
       "    <tr>\n",
       "      <th>1</th>\n",
       "      <td>2221 N FREMONT ST</td>\n",
       "      <td>41.922454</td>\n",
       "      <td>-87.650801</td>\n",
       "    </tr>\n",
       "    <tr>\n",
       "      <th>2</th>\n",
       "      <td>4446 N PARKSIDE AVE</td>\n",
       "      <td>41.961867</td>\n",
       "      <td>-87.768828</td>\n",
       "    </tr>\n",
       "    <tr>\n",
       "      <th>3</th>\n",
       "      <td>6964 W DIVERSEY AVE</td>\n",
       "      <td>41.931001</td>\n",
       "      <td>-87.800237</td>\n",
       "    </tr>\n",
       "    <tr>\n",
       "      <th>4</th>\n",
       "      <td>2336 N COMMONWEALTH AVE</td>\n",
       "      <td>41.924814</td>\n",
       "      <td>-87.638585</td>\n",
       "    </tr>\n",
       "  </tbody>\n",
       "</table>\n",
       "</div>"
      ],
      "text/plain": [
       "                   address   latitude  longitude\n",
       "0       5313 N DELPHIA AVE  41.975871 -87.841434\n",
       "1        2221 N FREMONT ST  41.922454 -87.650801\n",
       "2      4446 N PARKSIDE AVE  41.961867 -87.768828\n",
       "3      6964 W DIVERSEY AVE  41.931001 -87.800237\n",
       "4  2336 N COMMONWEALTH AVE  41.924814 -87.638585"
      ]
     },
     "execution_count": 226,
     "metadata": {},
     "output_type": "execute_result"
    }
   ],
   "source": [
    "# Dropping addresses not in Chicago\n",
    "house_loc_filtered = house_location.dropna().reset_index(drop=True)\n",
    "print(house_loc_filtered.shape)\n",
    "house_loc_filtered.head()"
   ]
  },
  {
   "cell_type": "code",
   "execution_count": 238,
   "metadata": {},
   "outputs": [],
   "source": [
    "house_loc_filtered.to_csv('data/Chicago_address.csv', index = False)"
   ]
  },
  {
   "cell_type": "code",
   "execution_count": 235,
   "metadata": {},
   "outputs": [],
   "source": [
    "# This function requires a latitude, a longitude, and a loaded geoJSON file as inputs \n",
    "def comm_finder(lat, lng, js):\n",
    "    # construct point based on lon/lat returned by geocoder\n",
    "    point = Point(lng, lat)  # Point class from shapely library\n",
    "\n",
    "    # check each polygon to see if it contains the point\n",
    "    for feature in js['features']:\n",
    "        polygon = shape(feature['geometry']) # shape method from shapely library\n",
    "        if polygon.contains(point):\n",
    "            return (feature['properties'][\"community\"],feature['properties'][\"area_numbe\"])\n",
    "        else:\n",
    "            return (np.nan,np.nan)"
   ]
  },
  {
   "cell_type": "code",
   "execution_count": 233,
   "metadata": {},
   "outputs": [],
   "source": [
    "# load GeoJSON file containing sectors\n",
    "with open('data/Boundaries_Community_Areas.geojson') as f:\n",
    "    js = json.load(f)\n",
    "\n",
    "community_name = []\n",
    "community_code = []\n",
    "\n",
    "for lat, lng in zip(house_loc_filtered['latitude'],house_loc_filtered['longitude']):\n",
    "    cmm, cmm_num = comm_finder(lat, lng, js)\n",
    "    community_name.append(cmm)\n",
    "    community_name.append(cmm_num)"
   ]
  },
  {
   "cell_type": "code",
   "execution_count": null,
   "metadata": {},
   "outputs": [],
   "source": []
  },
  {
   "cell_type": "code",
   "execution_count": null,
   "metadata": {},
   "outputs": [],
   "source": []
  },
  {
   "cell_type": "code",
   "execution_count": null,
   "metadata": {},
   "outputs": [],
   "source": []
  },
  {
   "cell_type": "markdown",
   "metadata": {},
   "source": [
    "### 1. Finding Best Community Areas Based on Census Data"
   ]
  },
  {
   "cell_type": "markdown",
   "metadata": {},
   "source": [
    "#### 1.1 Load Data and Find Top 10 Community Areas"
   ]
  },
  {
   "cell_type": "code",
   "execution_count": 249,
   "metadata": {},
   "outputs": [
    {
     "name": "stdout",
     "output_type": "stream",
     "text": [
      " * ibm_db_sa://trj52137:***@dashdb-txn-sbox-yp-dal09-08.services.dal.bluemix.net:50000/BLUDB\n",
      "Done.\n"
     ]
    }
   ],
   "source": [
    "# Getting Census Data form IBM_DB2 SQL Database\n",
    "nbhd_hardship = %sql SELECT hardship_index, community_area_name, community_area_number, percent_aged_25__without_high_school_diploma, per_capita_income FROM CENSUS_DATA ORDER BY hardship_index NULLS LAST;\n",
    "columns = ['hardship_index', 'community_area_name', 'community_area_number', 'percent_aged_25__without_high_school_diploma', 'per_capita_income']\n",
    "nbhd_hardship = pd.DataFrame(nbhd_hardship, columns = columns)\n",
    "\n",
    "# extract chicago's average on census data (not including hardship_index)\n",
    "chicago_avg = nbhd_hardship[nbhd_hardship['hardship_index'].isnull()]\n",
    "\n",
    "# print(nbhd_hardship.shape) \n",
    "nbhd_hardship.dropna(axis = 0, subset = ['community_area_number'],inplace = True)\n",
    "# print(nbhd_hardship.shape)\n",
    "nbhd_hardship['community_area_number'] = nbhd_hardship['community_area_number'].astype(int)"
   ]
  },
  {
   "cell_type": "code",
   "execution_count": 250,
   "metadata": {},
   "outputs": [
    {
     "data": {
      "text/html": [
       "<div>\n",
       "<style scoped>\n",
       "    .dataframe tbody tr th:only-of-type {\n",
       "        vertical-align: middle;\n",
       "    }\n",
       "\n",
       "    .dataframe tbody tr th {\n",
       "        vertical-align: top;\n",
       "    }\n",
       "\n",
       "    .dataframe thead th {\n",
       "        text-align: right;\n",
       "    }\n",
       "</style>\n",
       "<table border=\"1\" class=\"dataframe\">\n",
       "  <thead>\n",
       "    <tr style=\"text-align: right;\">\n",
       "      <th></th>\n",
       "      <th>hardship_index</th>\n",
       "      <th>community_area_name</th>\n",
       "      <th>community_area_number</th>\n",
       "      <th>percent_aged_25__without_high_school_diploma</th>\n",
       "      <th>per_capita_income</th>\n",
       "    </tr>\n",
       "  </thead>\n",
       "  <tbody>\n",
       "    <tr>\n",
       "      <th>0</th>\n",
       "      <td>1.0</td>\n",
       "      <td>Near North Side</td>\n",
       "      <td>8</td>\n",
       "      <td>2.5</td>\n",
       "      <td>88669</td>\n",
       "    </tr>\n",
       "    <tr>\n",
       "      <th>1</th>\n",
       "      <td>2.0</td>\n",
       "      <td>Lincoln Park</td>\n",
       "      <td>7</td>\n",
       "      <td>3.6</td>\n",
       "      <td>71551</td>\n",
       "    </tr>\n",
       "    <tr>\n",
       "      <th>2</th>\n",
       "      <td>3.0</td>\n",
       "      <td>Loop</td>\n",
       "      <td>32</td>\n",
       "      <td>3.1</td>\n",
       "      <td>65526</td>\n",
       "    </tr>\n",
       "    <tr>\n",
       "      <th>3</th>\n",
       "      <td>5.0</td>\n",
       "      <td>Lake View</td>\n",
       "      <td>6</td>\n",
       "      <td>2.6</td>\n",
       "      <td>60058</td>\n",
       "    </tr>\n",
       "    <tr>\n",
       "      <th>4</th>\n",
       "      <td>6.0</td>\n",
       "      <td>North Center</td>\n",
       "      <td>5</td>\n",
       "      <td>4.5</td>\n",
       "      <td>57123</td>\n",
       "    </tr>\n",
       "  </tbody>\n",
       "</table>\n",
       "</div>"
      ],
      "text/plain": [
       "   hardship_index community_area_name  community_area_number  \\\n",
       "0             1.0     Near North Side                      8   \n",
       "1             2.0        Lincoln Park                      7   \n",
       "2             3.0                Loop                     32   \n",
       "3             5.0           Lake View                      6   \n",
       "4             6.0        North Center                      5   \n",
       "\n",
       "  percent_aged_25__without_high_school_diploma  per_capita_income  \n",
       "0                                          2.5              88669  \n",
       "1                                          3.6              71551  \n",
       "2                                          3.1              65526  \n",
       "3                                          2.6              60058  \n",
       "4                                          4.5              57123  "
      ]
     },
     "execution_count": 250,
     "metadata": {},
     "output_type": "execute_result"
    }
   ],
   "source": [
    "nbhd_hardship.head() \n",
    "# contains all community areas\n",
    "# can be combined with all other fators for machine learning algorithm'use"
   ]
  },
  {
   "cell_type": "markdown",
   "metadata": {},
   "source": [
    "#### 1.2 Finding coordinates for top 10 Communities"
   ]
  },
  {
   "cell_type": "code",
   "execution_count": 251,
   "metadata": {},
   "outputs": [],
   "source": [
    "nbhd_rank_hd = nbhd_hardship.head(10)"
   ]
  },
  {
   "cell_type": "code",
   "execution_count": 252,
   "metadata": {},
   "outputs": [
    {
     "name": "stderr",
     "output_type": "stream",
     "text": [
      "C:\\ProgramData\\Anaconda3\\lib\\site-packages\\ipykernel_launcher.py:12: SettingWithCopyWarning: \n",
      "A value is trying to be set on a copy of a slice from a DataFrame.\n",
      "Try using .loc[row_indexer,col_indexer] = value instead\n",
      "\n",
      "See the caveats in the documentation: http://pandas.pydata.org/pandas-docs/stable/indexing.html#indexing-view-versus-copy\n",
      "  if sys.path[0] == '':\n",
      "C:\\ProgramData\\Anaconda3\\lib\\site-packages\\ipykernel_launcher.py:13: SettingWithCopyWarning: \n",
      "A value is trying to be set on a copy of a slice from a DataFrame.\n",
      "Try using .loc[row_indexer,col_indexer] = value instead\n",
      "\n",
      "See the caveats in the documentation: http://pandas.pydata.org/pandas-docs/stable/indexing.html#indexing-view-versus-copy\n",
      "  del sys.path[0]\n"
     ]
    },
    {
     "data": {
      "text/html": [
       "<div>\n",
       "<style scoped>\n",
       "    .dataframe tbody tr th:only-of-type {\n",
       "        vertical-align: middle;\n",
       "    }\n",
       "\n",
       "    .dataframe tbody tr th {\n",
       "        vertical-align: top;\n",
       "    }\n",
       "\n",
       "    .dataframe thead th {\n",
       "        text-align: right;\n",
       "    }\n",
       "</style>\n",
       "<table border=\"1\" class=\"dataframe\">\n",
       "  <thead>\n",
       "    <tr style=\"text-align: right;\">\n",
       "      <th></th>\n",
       "      <th>hardship_index</th>\n",
       "      <th>community_area_name</th>\n",
       "      <th>community_area_number</th>\n",
       "      <th>percent_aged_25__without_high_school_diploma</th>\n",
       "      <th>per_capita_income</th>\n",
       "      <th>latitude</th>\n",
       "      <th>longitude</th>\n",
       "    </tr>\n",
       "  </thead>\n",
       "  <tbody>\n",
       "    <tr>\n",
       "      <th>0</th>\n",
       "      <td>1.0</td>\n",
       "      <td>Near North Side</td>\n",
       "      <td>8</td>\n",
       "      <td>2.5</td>\n",
       "      <td>88669</td>\n",
       "      <td>41.900033</td>\n",
       "      <td>-87.634497</td>\n",
       "    </tr>\n",
       "    <tr>\n",
       "      <th>1</th>\n",
       "      <td>2.0</td>\n",
       "      <td>Lincoln Park</td>\n",
       "      <td>7</td>\n",
       "      <td>3.6</td>\n",
       "      <td>71551</td>\n",
       "      <td>41.940298</td>\n",
       "      <td>-87.638117</td>\n",
       "    </tr>\n",
       "    <tr>\n",
       "      <th>2</th>\n",
       "      <td>3.0</td>\n",
       "      <td>Loop</td>\n",
       "      <td>32</td>\n",
       "      <td>3.1</td>\n",
       "      <td>65526</td>\n",
       "      <td>41.881609</td>\n",
       "      <td>-87.629457</td>\n",
       "    </tr>\n",
       "    <tr>\n",
       "      <th>3</th>\n",
       "      <td>5.0</td>\n",
       "      <td>Lake View</td>\n",
       "      <td>6</td>\n",
       "      <td>2.6</td>\n",
       "      <td>60058</td>\n",
       "      <td>41.947050</td>\n",
       "      <td>-87.655429</td>\n",
       "    </tr>\n",
       "    <tr>\n",
       "      <th>4</th>\n",
       "      <td>6.0</td>\n",
       "      <td>North Center</td>\n",
       "      <td>5</td>\n",
       "      <td>4.5</td>\n",
       "      <td>57123</td>\n",
       "      <td>41.956107</td>\n",
       "      <td>-87.679160</td>\n",
       "    </tr>\n",
       "  </tbody>\n",
       "</table>\n",
       "</div>"
      ],
      "text/plain": [
       "   hardship_index community_area_name  community_area_number  \\\n",
       "0             1.0     Near North Side                      8   \n",
       "1             2.0        Lincoln Park                      7   \n",
       "2             3.0                Loop                     32   \n",
       "3             5.0           Lake View                      6   \n",
       "4             6.0        North Center                      5   \n",
       "\n",
       "  percent_aged_25__without_high_school_diploma  per_capita_income   latitude  \\\n",
       "0                                          2.5              88669  41.900033   \n",
       "1                                          3.6              71551  41.940298   \n",
       "2                                          3.1              65526  41.881609   \n",
       "3                                          2.6              60058  41.947050   \n",
       "4                                          4.5              57123  41.956107   \n",
       "\n",
       "   longitude  \n",
       "0 -87.634497  \n",
       "1 -87.638117  \n",
       "2 -87.629457  \n",
       "3 -87.655429  \n",
       "4 -87.679160  "
      ]
     },
     "execution_count": 252,
     "metadata": {},
     "output_type": "execute_result"
    }
   ],
   "source": [
    "# Getting coordinations for each neighborhood\n",
    "latitudes = []\n",
    "longitudes = []\n",
    "geolocator = Nominatim(user_agent=\"nb_explorer\")\n",
    "\n",
    "for i in range(nbhd_rank_hd.shape[0]):\n",
    "    address = nbhd_rank_hd['community_area_name'].iloc[i] + \",Chicago, IL, USA\"\n",
    "    location = geolocator.geocode(address)\n",
    "    latitudes.append(location.latitude)\n",
    "    longitudes.append(location.longitude)\n",
    "    \n",
    "nbhd_rank_hd['latitude'] = latitudes\n",
    "nbhd_rank_hd['longitude'] = longitudes\n",
    "\n",
    "nbhd_rank_hd.head()"
   ]
  },
  {
   "cell_type": "markdown",
   "metadata": {},
   "source": [
    "#### 1.3 Showing Top 10 Community Areas on Maps"
   ]
  },
  {
   "cell_type": "code",
   "execution_count": 253,
   "metadata": {},
   "outputs": [
    {
     "name": "stdout",
     "output_type": "stream",
     "text": [
      "The geograpical coordinate of Chicago City are 41.8755616, -87.6244212.\n"
     ]
    }
   ],
   "source": [
    "# Getting coordinations for Chicago\n",
    "address = 'Chicago, IL, USA'\n",
    "\n",
    "geolocator = Nominatim(user_agent=\"Chica_explorer\")\n",
    "location = geolocator.geocode(address)\n",
    "chica_latitude = location.latitude\n",
    "Chica_longitude = location.longitude\n",
    "print('The geograpical coordinate of Chicago City are {}, {}.'.format(chica_latitude, Chica_longitude))"
   ]
  },
  {
   "cell_type": "code",
   "execution_count": 338,
   "metadata": {},
   "outputs": [
    {
     "data": {
      "text/html": [
       "<div style=\"width:100%;\"><div style=\"position:relative;width:100%;height:0;padding-bottom:60%;\"><span style=\"color:#565656\">Make this Notebook Trusted to load map: File -> Trust Notebook</span><iframe src=\"about:blank\" style=\"position:absolute;width:100%;height:100%;left:0;top:0;border:none !important;\" data-html=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 onload=\"this.contentDocument.open();this.contentDocument.write(atob(this.getAttribute('data-html')));this.contentDocument.close();\" allowfullscreen webkitallowfullscreen mozallowfullscreen></iframe></div></div>"
      ],
      "text/plain": [
       "<folium.folium.Map at 0x152e06a0b38>"
      ]
     },
     "execution_count": 338,
     "metadata": {},
     "output_type": "execute_result"
    }
   ],
   "source": [
    "map_chicago = folium.Map(location=[chica_latitude, Chica_longitude], zoom_start=10)\n",
    "\n",
    "# add markers to map\n",
    "for lat, lng, hd_index, neighborhood in zip(nbhd_rank_hd['latitude'], nbhd_rank_hd['longitude'], nbhd_rank_hd['hardship_index'], nbhd_rank_hd['community_area_name']):\n",
    "    label = '{}, \\nHardship:{}'.format(neighborhood, hd_index)\n",
    "    label = folium.Popup(label, parse_html=True)\n",
    "    folium.CircleMarker(\n",
    "        [lat, lng],\n",
    "        radius=5,\n",
    "        popup=label,\n",
    "        color='blue',\n",
    "        fill=True,\n",
    "        fill_color='#3186cc',\n",
    "        fill_opacity=0.7,\n",
    "        parse_html=False).add_to(map_chicago)  \n",
    "    \n",
    "map_chicago # showing neighborhoods on map"
   ]
  },
  {
   "cell_type": "code",
   "execution_count": null,
   "metadata": {},
   "outputs": [],
   "source": []
  },
  {
   "cell_type": "markdown",
   "metadata": {},
   "source": [
    "### 2.Finding Best Community Areas Based on College Enrollment Rate"
   ]
  },
  {
   "cell_type": "markdown",
   "metadata": {},
   "source": [
    "#### 2.1 Load Public School Data from Local Data Folder"
   ]
  },
  {
   "cell_type": "code",
   "execution_count": 327,
   "metadata": {},
   "outputs": [
    {
     "data": {
      "text/plain": [
       "(77, 78)"
      ]
     },
     "execution_count": 327,
     "metadata": {},
     "output_type": "execute_result"
    }
   ],
   "source": [
    "# Getting Census Data form local data folder. Here we only load high schools.\n",
    "nbhd_schools = pd.read_csv('data/Chicago_Public_Schools_-_Progress_Report_Cards__2011-2012-v3.csv')\n",
    "\n",
    "# Extract schools with College Enrollment Rate info, and put them in descending order.\n",
    "nbhd_schools = nbhd_schools[nbhd_schools['Elementary, Middle, or High School'] == 'HS']\n",
    "nbhd_schools = nbhd_schools[nbhd_schools['College Enrollment Rate %'] !='NDA'].sort_values(by='College Enrollment Rate %', ascending = False)\n",
    "nbhd_schools = nbhd_schools.reset_index(drop = True)\n",
    "nbhd_schools.shape"
   ]
  },
  {
   "cell_type": "code",
   "execution_count": 328,
   "metadata": {},
   "outputs": [],
   "source": [
    "# Extract columns which we are interested in\n",
    "columns = ['School ID', 'NAME_OF_SCHOOL',\n",
    "           'College Enrollment Rate %', \n",
    "           'COMMUNITY_AREA_NUMBER', 'COMMUNITY_AREA_NAME',\n",
    "           'Latitude', 'Longitude']\n",
    "nbhd_schools_filtered = nbhd_schools[columns]"
   ]
  },
  {
   "cell_type": "markdown",
   "metadata": {},
   "source": [
    "#### 2.2 Add School Locations to Chicago Map"
   ]
  },
  {
   "cell_type": "code",
   "execution_count": 339,
   "metadata": {},
   "outputs": [
    {
     "data": {
      "text/html": [
       "<div style=\"width:100%;\"><div style=\"position:relative;width:100%;height:0;padding-bottom:60%;\"><span style=\"color:#565656\">Make this Notebook Trusted to load map: File -> Trust Notebook</span><iframe src=\"about:blank\" style=\"position:absolute;width:100%;height:100%;left:0;top:0;border:none !important;\" data-html=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 onload=\"this.contentDocument.open();this.contentDocument.write(atob(this.getAttribute('data-html')));this.contentDocument.close();\" allowfullscreen webkitallowfullscreen mozallowfullscreen></iframe></div></div>"
      ],
      "text/plain": [
       "<folium.folium.Map at 0x152e06a0b38>"
      ]
     },
     "execution_count": 339,
     "metadata": {},
     "output_type": "execute_result"
    }
   ],
   "source": [
    "# Finding Ttop 10 Schools\n",
    "nbhd_schools_rank = nbhd_schools_filtered.head(10)\n",
    "\n",
    "# add markers to map\n",
    "for lat, lng, enrl_rate, neighborhood in zip(nbhd_schools_rank['Latitude'], nbhd_schools_rank['Longitude'], nbhd_schools_rank['College Enrollment Rate %'], nbhd_schools_rank['COMMUNITY_AREA_NAME']):\n",
    "    label = '{}, \\nCollege Enrollment Rate: {}%'.format(neighborhood, enrl_rate)\n",
    "    label = folium.Popup(label, parse_html=True)\n",
    "    folium.CircleMarker(\n",
    "        [lat, lng],\n",
    "        radius=5,\n",
    "        popup=label,\n",
    "        color='orange',\n",
    "        fill=True,\n",
    "        fill_color='#3186cc',\n",
    "        fill_opacity=0.7,\n",
    "        parse_html=False).add_to(map_chicago)  \n",
    "    \n",
    "map_chicago # showing neighborhoods on map"
   ]
  },
  {
   "cell_type": "code",
   "execution_count": null,
   "metadata": {},
   "outputs": [],
   "source": []
  },
  {
   "cell_type": "markdown",
   "metadata": {},
   "source": [
    "### 3. Finding the Saftest Community Area"
   ]
  },
  {
   "cell_type": "code",
   "execution_count": 346,
   "metadata": {},
   "outputs": [
    {
     "data": {
      "text/html": [
       "<div>\n",
       "<style scoped>\n",
       "    .dataframe tbody tr th:only-of-type {\n",
       "        vertical-align: middle;\n",
       "    }\n",
       "\n",
       "    .dataframe tbody tr th {\n",
       "        vertical-align: top;\n",
       "    }\n",
       "\n",
       "    .dataframe thead th {\n",
       "        text-align: right;\n",
       "    }\n",
       "</style>\n",
       "<table border=\"1\" class=\"dataframe\">\n",
       "  <thead>\n",
       "    <tr style=\"text-align: right;\">\n",
       "      <th></th>\n",
       "      <th>ID</th>\n",
       "      <th>CASE_NUMBER</th>\n",
       "      <th>DATE</th>\n",
       "      <th>BLOCK</th>\n",
       "      <th>IUCR</th>\n",
       "      <th>PRIMARY_TYPE</th>\n",
       "      <th>DESCRIPTION</th>\n",
       "      <th>LOCATION_DESCRIPTION</th>\n",
       "      <th>ARREST</th>\n",
       "      <th>DOMESTIC</th>\n",
       "      <th>BEAT</th>\n",
       "      <th>DISTRICT</th>\n",
       "      <th>WARD</th>\n",
       "      <th>COMMUNITY_AREA_NUMBER</th>\n",
       "      <th>FBICODE</th>\n",
       "      <th>X_COORDINATE</th>\n",
       "      <th>Y_COORDINATE</th>\n",
       "      <th>YEAR</th>\n",
       "      <th>UPDATEDON</th>\n",
       "      <th>LATITUDE</th>\n",
       "      <th>LONGITUDE</th>\n",
       "      <th>LOCATION</th>\n",
       "    </tr>\n",
       "  </thead>\n",
       "  <tbody>\n",
       "    <tr>\n",
       "      <th>0</th>\n",
       "      <td>3512276</td>\n",
       "      <td>HK587712</td>\n",
       "      <td>08/28/2004 05:50:56 PM</td>\n",
       "      <td>047XX S KEDZIE AVE</td>\n",
       "      <td>890</td>\n",
       "      <td>THEFT</td>\n",
       "      <td>FROM BUILDING</td>\n",
       "      <td>SMALL RETAIL STORE</td>\n",
       "      <td>False</td>\n",
       "      <td>False</td>\n",
       "      <td>911</td>\n",
       "      <td>9</td>\n",
       "      <td>14.0</td>\n",
       "      <td>58</td>\n",
       "      <td>6</td>\n",
       "      <td>1155838.0</td>\n",
       "      <td>1873050.0</td>\n",
       "      <td>2004</td>\n",
       "      <td>02/10/2018 03:50:01 PM</td>\n",
       "      <td>41.807441</td>\n",
       "      <td>-87.703956</td>\n",
       "      <td>(41.8074405, -87.703955849)</td>\n",
       "    </tr>\n",
       "    <tr>\n",
       "      <th>1</th>\n",
       "      <td>3406613</td>\n",
       "      <td>HK456306</td>\n",
       "      <td>06/26/2004 12:40:00 PM</td>\n",
       "      <td>009XX N CENTRAL PARK AVE</td>\n",
       "      <td>820</td>\n",
       "      <td>THEFT</td>\n",
       "      <td>$500 AND UNDER</td>\n",
       "      <td>OTHER</td>\n",
       "      <td>False</td>\n",
       "      <td>False</td>\n",
       "      <td>1112</td>\n",
       "      <td>11</td>\n",
       "      <td>27.0</td>\n",
       "      <td>23</td>\n",
       "      <td>6</td>\n",
       "      <td>1152206.0</td>\n",
       "      <td>1906127.0</td>\n",
       "      <td>2004</td>\n",
       "      <td>02/28/2018 03:56:25 PM</td>\n",
       "      <td>41.898280</td>\n",
       "      <td>-87.716406</td>\n",
       "      <td>(41.898279962, -87.716405505)</td>\n",
       "    </tr>\n",
       "    <tr>\n",
       "      <th>2</th>\n",
       "      <td>8002131</td>\n",
       "      <td>HT233595</td>\n",
       "      <td>04/04/2011 05:45:00 AM</td>\n",
       "      <td>043XX S WABASH AVE</td>\n",
       "      <td>820</td>\n",
       "      <td>THEFT</td>\n",
       "      <td>$500 AND UNDER</td>\n",
       "      <td>NURSING HOME/RETIREMENT HOME</td>\n",
       "      <td>False</td>\n",
       "      <td>False</td>\n",
       "      <td>221</td>\n",
       "      <td>2</td>\n",
       "      <td>3.0</td>\n",
       "      <td>38</td>\n",
       "      <td>6</td>\n",
       "      <td>1177436.0</td>\n",
       "      <td>1876313.0</td>\n",
       "      <td>2011</td>\n",
       "      <td>02/10/2018 03:50:01 PM</td>\n",
       "      <td>41.815933</td>\n",
       "      <td>-87.624642</td>\n",
       "      <td>(41.815933131, -87.624642127)</td>\n",
       "    </tr>\n",
       "    <tr>\n",
       "      <th>3</th>\n",
       "      <td>7903289</td>\n",
       "      <td>HT133522</td>\n",
       "      <td>12/30/2010 04:30:00 PM</td>\n",
       "      <td>083XX S KINGSTON AVE</td>\n",
       "      <td>840</td>\n",
       "      <td>THEFT</td>\n",
       "      <td>FINANCIAL ID THEFT: OVER $300</td>\n",
       "      <td>RESIDENCE</td>\n",
       "      <td>False</td>\n",
       "      <td>False</td>\n",
       "      <td>423</td>\n",
       "      <td>4</td>\n",
       "      <td>7.0</td>\n",
       "      <td>46</td>\n",
       "      <td>6</td>\n",
       "      <td>1194622.0</td>\n",
       "      <td>1850125.0</td>\n",
       "      <td>2010</td>\n",
       "      <td>02/10/2018 03:50:01 PM</td>\n",
       "      <td>41.743665</td>\n",
       "      <td>-87.562463</td>\n",
       "      <td>(41.743665322, -87.562462756)</td>\n",
       "    </tr>\n",
       "    <tr>\n",
       "      <th>4</th>\n",
       "      <td>10402076</td>\n",
       "      <td>HZ138551</td>\n",
       "      <td>02/02/2016 07:30:00 PM</td>\n",
       "      <td>033XX W 66TH ST</td>\n",
       "      <td>820</td>\n",
       "      <td>THEFT</td>\n",
       "      <td>$500 AND UNDER</td>\n",
       "      <td>ALLEY</td>\n",
       "      <td>False</td>\n",
       "      <td>False</td>\n",
       "      <td>831</td>\n",
       "      <td>8</td>\n",
       "      <td>15.0</td>\n",
       "      <td>66</td>\n",
       "      <td>6</td>\n",
       "      <td>1155240.0</td>\n",
       "      <td>1860661.0</td>\n",
       "      <td>2016</td>\n",
       "      <td>02/10/2018 03:50:01 PM</td>\n",
       "      <td>41.773455</td>\n",
       "      <td>-87.706480</td>\n",
       "      <td>(41.773455295, -87.706480471)</td>\n",
       "    </tr>\n",
       "  </tbody>\n",
       "</table>\n",
       "</div>"
      ],
      "text/plain": [
       "         ID CASE_NUMBER                    DATE                     BLOCK  \\\n",
       "0   3512276    HK587712  08/28/2004 05:50:56 PM        047XX S KEDZIE AVE   \n",
       "1   3406613    HK456306  06/26/2004 12:40:00 PM  009XX N CENTRAL PARK AVE   \n",
       "2   8002131    HT233595  04/04/2011 05:45:00 AM        043XX S WABASH AVE   \n",
       "3   7903289    HT133522  12/30/2010 04:30:00 PM      083XX S KINGSTON AVE   \n",
       "4  10402076    HZ138551  02/02/2016 07:30:00 PM           033XX W 66TH ST   \n",
       "\n",
       "  IUCR PRIMARY_TYPE                    DESCRIPTION  \\\n",
       "0  890        THEFT                  FROM BUILDING   \n",
       "1  820        THEFT                 $500 AND UNDER   \n",
       "2  820        THEFT                 $500 AND UNDER   \n",
       "3  840        THEFT  FINANCIAL ID THEFT: OVER $300   \n",
       "4  820        THEFT                 $500 AND UNDER   \n",
       "\n",
       "           LOCATION_DESCRIPTION  ARREST  DOMESTIC  BEAT  DISTRICT  WARD  \\\n",
       "0            SMALL RETAIL STORE   False     False   911         9  14.0   \n",
       "1                         OTHER   False     False  1112        11  27.0   \n",
       "2  NURSING HOME/RETIREMENT HOME   False     False   221         2   3.0   \n",
       "3                     RESIDENCE   False     False   423         4   7.0   \n",
       "4                         ALLEY   False     False   831         8  15.0   \n",
       "\n",
       "   COMMUNITY_AREA_NUMBER FBICODE  X_COORDINATE  Y_COORDINATE  YEAR  \\\n",
       "0                     58       6     1155838.0     1873050.0  2004   \n",
       "1                     23       6     1152206.0     1906127.0  2004   \n",
       "2                     38       6     1177436.0     1876313.0  2011   \n",
       "3                     46       6     1194622.0     1850125.0  2010   \n",
       "4                     66       6     1155240.0     1860661.0  2016   \n",
       "\n",
       "                UPDATEDON   LATITUDE  LONGITUDE                       LOCATION  \n",
       "0  02/10/2018 03:50:01 PM  41.807441 -87.703956    (41.8074405, -87.703955849)  \n",
       "1  02/28/2018 03:56:25 PM  41.898280 -87.716406  (41.898279962, -87.716405505)  \n",
       "2  02/10/2018 03:50:01 PM  41.815933 -87.624642  (41.815933131, -87.624642127)  \n",
       "3  02/10/2018 03:50:01 PM  41.743665 -87.562463  (41.743665322, -87.562462756)  \n",
       "4  02/10/2018 03:50:01 PM  41.773455 -87.706480  (41.773455295, -87.706480471)  "
      ]
     },
     "execution_count": 346,
     "metadata": {},
     "output_type": "execute_result"
    }
   ],
   "source": [
    "nbhd_safety = pd.read_csv('data/Chicago_Crime_Data-v2.csv')\n",
    "nbhd_safety = nbhd_safety.dropna(subset = ['COMMUNITY_AREA_NUMBER'])\n",
    "nbhd_safety['COMMUNITY_AREA_NUMBER'] = nbhd_safety['COMMUNITY_AREA_NUMBER'].astype('int')\n",
    "nbhd_safety.head()"
   ]
  },
  {
   "cell_type": "code",
   "execution_count": null,
   "metadata": {},
   "outputs": [],
   "source": []
  }
 ],
 "metadata": {
  "kernelspec": {
   "display_name": "Python 3",
   "language": "python",
   "name": "python3"
  },
  "language_info": {
   "codemirror_mode": {
    "name": "ipython",
    "version": 3
   },
   "file_extension": ".py",
   "mimetype": "text/x-python",
   "name": "python",
   "nbconvert_exporter": "python",
   "pygments_lexer": "ipython3",
   "version": "3.7.3"
  }
 },
 "nbformat": 4,
 "nbformat_minor": 4
}
