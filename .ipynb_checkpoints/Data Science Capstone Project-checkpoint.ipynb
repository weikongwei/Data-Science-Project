{
 "cells": [
  {
   "cell_type": "markdown",
   "metadata": {},
   "source": [
    "# Data Science Capstone Project"
   ]
  },
  {
   "cell_type": "markdown",
   "metadata": {},
   "source": [
    "This project is to practice all skills learn from the entire course and apply those knowledge to a near industrial project."
   ]
  },
  {
   "cell_type": "code",
   "execution_count": 127,
   "metadata": {},
   "outputs": [
    {
     "name": "stdout",
     "output_type": "stream",
     "text": [
      "Libraries imported.\n",
      "The sql extension is already loaded. To reload it, use:\n",
      "  %reload_ext sql\n",
      "Hello Capstone Project Course!\n"
     ]
    }
   ],
   "source": [
    "# To purse JSON and geoJSON\n",
    "import json\n",
    "from shapely.geometry import shape, Point   # Depending on your version, use: from shapely.geometry import shape, Point\n",
    "\n",
    "# !pip install geocoder\n",
    "import geocoder\n",
    "\n",
    "import numpy as np # library to handle data in a vectorized manner\n",
    "\n",
    "import pandas as pd # library for data analsysis\n",
    "pd.set_option('display.max_columns', None)\n",
    "pd.set_option('display.max_rows', None)\n",
    "\n",
    "# !conda install -c conda-forge geopy --yes # uncomment this line if you haven't completed the Foursquare API lab\n",
    "from geopy.geocoders import Nominatim # convert an address into latitude and longitude values\n",
    "\n",
    "# Matplotlib and associated plotting modules\n",
    "import matplotlib.cm as cm\n",
    "import matplotlib.colors as colors\n",
    "import matplotlib.pyplot as plt\n",
    "\n",
    "# import k-means from clustering stage\n",
    "from sklearn.cluster import KMeans\n",
    "\n",
    "#!conda install -c conda-forge folium=0.5.0 --yes # uncomment this line if you haven't completed the Foursquare API lab\n",
    "import folium # map rendering library\n",
    "\n",
    "print('Libraries imported.')\n",
    "\n",
    "%load_ext sql\n",
    "%matplotlib inline\n",
    "\n",
    "# Enable IBM_db2 Database Access\n",
    "%sql ibm_db_sa://trj52137:z89xgm4f30nmqh%5Eg@dashdb-txn-sbox-yp-dal09-08.services.dal.bluemix.net:50000/BLUDB\n",
    "\n",
    "print('Hello Capstone Project Course!')"
   ]
  },
  {
   "cell_type": "code",
   "execution_count": 220,
   "metadata": {},
   "outputs": [
    {
     "name": "stderr",
     "output_type": "stream",
     "text": [
      "WARNING:root:Requests made without an app_token will be subject to strict throttling limits.\n"
     ]
    }
   ],
   "source": [
    "# Importing Cook County Housing Sales Data using API provided by Cook County\n",
    "\n",
    "# make sure to install these packages before running:\n",
    "# pip install pandas\n",
    "# !pip install sodapy\n",
    "\n",
    "import pandas as pd\n",
    "from sodapy import Socrata\n",
    "\n",
    "# Unauthenticated client only works with public data sets. Note 'None'\n",
    "# in place of application token, and no username or password:\n",
    "client = Socrata(\"datacatalog.cookcountyil.gov\", None)\n",
    "\n",
    "# Example authenticated client (needed for non-public datasets):\n",
    "# client = Socrata(datacatalog.cookcountyil.gov,\n",
    "#                  MyAppToken,\n",
    "#                  userame=\"user@example.com\",\n",
    "#                  password=\"AFakePassword\")\n",
    "\n",
    "# First 2000 results, returned as JSON from API / converted to Python list of\n",
    "# dictionaries by sodapy.\n",
    "results = client.get(\"5pge-nu6u\", limit=2000)\n",
    "\n",
    "# Convert to pandas DataFrame\n",
    "results_df = pd.DataFrame.from_records(results)\n",
    "sale_2018 = results_df[results_df['sale_year']=='2018']\n",
    "sale_2018 = sale_2018.reset_index(drop = True)\n",
    "# sale_2018.head()\n",
    "house_location = pd.DataFrame(columns = ['address','latitude','longitude'])\n",
    "house_location['address'] = sale_2018['addr']"
   ]
  },
  {
   "cell_type": "code",
   "execution_count": 221,
   "metadata": {},
   "outputs": [],
   "source": [
    "# # Testing for the code in the loop below\n",
    "# address = house_location['address'].iloc[0] + \",Chicago, IL, USA\"\n",
    "# location = geolocator.geocode(address)\n",
    "# print(location)"
   ]
  },
  {
   "cell_type": "code",
   "execution_count": 222,
   "metadata": {},
   "outputs": [],
   "source": [
    "# Getting coordinations for each house sold in 2018\n",
    "house_latitudes = []\n",
    "house_longitudes = []\n",
    "geolocator = Nominatim(user_agent=\"house_explorer\")\n",
    "\n",
    "for i in range(house_adrs.shape[0]):\n",
    "    address = house_location['address'].iloc[i] + \", Chicago, IL, USA\"\n",
    "    location = geolocator.geocode(address)\n",
    "    if location == None:\n",
    "        house_latitudes.append(np.nan)\n",
    "        house_longitudes.append(np.nan)\n",
    "    else:\n",
    "        house_latitudes.append(location.latitude)\n",
    "        house_longitudes.append(location.longitude)\n",
    "    \n",
    "house_location['latitude'] = house_latitudes\n",
    "house_location['longitude'] = house_longitudes"
   ]
  },
  {
   "cell_type": "code",
   "execution_count": 223,
   "metadata": {},
   "outputs": [
    {
     "data": {
      "text/html": [
       "<div>\n",
       "<style scoped>\n",
       "    .dataframe tbody tr th:only-of-type {\n",
       "        vertical-align: middle;\n",
       "    }\n",
       "\n",
       "    .dataframe tbody tr th {\n",
       "        vertical-align: top;\n",
       "    }\n",
       "\n",
       "    .dataframe thead th {\n",
       "        text-align: right;\n",
       "    }\n",
       "</style>\n",
       "<table border=\"1\" class=\"dataframe\">\n",
       "  <thead>\n",
       "    <tr style=\"text-align: right;\">\n",
       "      <th></th>\n",
       "      <th>address</th>\n",
       "      <th>latitude</th>\n",
       "      <th>longitude</th>\n",
       "    </tr>\n",
       "  </thead>\n",
       "  <tbody>\n",
       "    <tr>\n",
       "      <th>0</th>\n",
       "      <td>4431 PRESCOTT AVE</td>\n",
       "      <td>NaN</td>\n",
       "      <td>NaN</td>\n",
       "    </tr>\n",
       "    <tr>\n",
       "      <th>1</th>\n",
       "      <td>5313 N DELPHIA AVE</td>\n",
       "      <td>41.975871</td>\n",
       "      <td>-87.841434</td>\n",
       "    </tr>\n",
       "    <tr>\n",
       "      <th>2</th>\n",
       "      <td>2221 N FREMONT ST</td>\n",
       "      <td>41.922454</td>\n",
       "      <td>-87.650801</td>\n",
       "    </tr>\n",
       "    <tr>\n",
       "      <th>3</th>\n",
       "      <td>4446 N PARKSIDE AVE</td>\n",
       "      <td>41.961867</td>\n",
       "      <td>-87.768828</td>\n",
       "    </tr>\n",
       "    <tr>\n",
       "      <th>4</th>\n",
       "      <td>1926 PRAIRIE SQUARE</td>\n",
       "      <td>NaN</td>\n",
       "      <td>NaN</td>\n",
       "    </tr>\n",
       "  </tbody>\n",
       "</table>\n",
       "</div>"
      ],
      "text/plain": [
       "               address   latitude  longitude\n",
       "0    4431 PRESCOTT AVE        NaN        NaN\n",
       "1   5313 N DELPHIA AVE  41.975871 -87.841434\n",
       "2    2221 N FREMONT ST  41.922454 -87.650801\n",
       "3  4446 N PARKSIDE AVE  41.961867 -87.768828\n",
       "4  1926 PRAIRIE SQUARE        NaN        NaN"
      ]
     },
     "execution_count": 223,
     "metadata": {},
     "output_type": "execute_result"
    }
   ],
   "source": [
    "house_location.head()"
   ]
  },
  {
   "cell_type": "code",
   "execution_count": 226,
   "metadata": {},
   "outputs": [
    {
     "name": "stdout",
     "output_type": "stream",
     "text": [
      "(219, 3)\n"
     ]
    },
    {
     "data": {
      "text/html": [
       "<div>\n",
       "<style scoped>\n",
       "    .dataframe tbody tr th:only-of-type {\n",
       "        vertical-align: middle;\n",
       "    }\n",
       "\n",
       "    .dataframe tbody tr th {\n",
       "        vertical-align: top;\n",
       "    }\n",
       "\n",
       "    .dataframe thead th {\n",
       "        text-align: right;\n",
       "    }\n",
       "</style>\n",
       "<table border=\"1\" class=\"dataframe\">\n",
       "  <thead>\n",
       "    <tr style=\"text-align: right;\">\n",
       "      <th></th>\n",
       "      <th>address</th>\n",
       "      <th>latitude</th>\n",
       "      <th>longitude</th>\n",
       "    </tr>\n",
       "  </thead>\n",
       "  <tbody>\n",
       "    <tr>\n",
       "      <th>0</th>\n",
       "      <td>5313 N DELPHIA AVE</td>\n",
       "      <td>41.975871</td>\n",
       "      <td>-87.841434</td>\n",
       "    </tr>\n",
       "    <tr>\n",
       "      <th>1</th>\n",
       "      <td>2221 N FREMONT ST</td>\n",
       "      <td>41.922454</td>\n",
       "      <td>-87.650801</td>\n",
       "    </tr>\n",
       "    <tr>\n",
       "      <th>2</th>\n",
       "      <td>4446 N PARKSIDE AVE</td>\n",
       "      <td>41.961867</td>\n",
       "      <td>-87.768828</td>\n",
       "    </tr>\n",
       "    <tr>\n",
       "      <th>3</th>\n",
       "      <td>6964 W DIVERSEY AVE</td>\n",
       "      <td>41.931001</td>\n",
       "      <td>-87.800237</td>\n",
       "    </tr>\n",
       "    <tr>\n",
       "      <th>4</th>\n",
       "      <td>2336 N COMMONWEALTH AVE</td>\n",
       "      <td>41.924814</td>\n",
       "      <td>-87.638585</td>\n",
       "    </tr>\n",
       "  </tbody>\n",
       "</table>\n",
       "</div>"
      ],
      "text/plain": [
       "                   address   latitude  longitude\n",
       "0       5313 N DELPHIA AVE  41.975871 -87.841434\n",
       "1        2221 N FREMONT ST  41.922454 -87.650801\n",
       "2      4446 N PARKSIDE AVE  41.961867 -87.768828\n",
       "3      6964 W DIVERSEY AVE  41.931001 -87.800237\n",
       "4  2336 N COMMONWEALTH AVE  41.924814 -87.638585"
      ]
     },
     "execution_count": 226,
     "metadata": {},
     "output_type": "execute_result"
    }
   ],
   "source": [
    "# Dropping addresses not in Chicago\n",
    "house_loc_filtered = house_location.dropna().reset_index(drop=True)\n",
    "print(house_loc_filtered.shape)\n",
    "house_loc_filtered.head()"
   ]
  },
  {
   "cell_type": "code",
   "execution_count": 238,
   "metadata": {},
   "outputs": [],
   "source": [
    "house_loc_filtered.to_csv('data/Chicago_address.csv', index = False)"
   ]
  },
  {
   "cell_type": "code",
   "execution_count": 235,
   "metadata": {},
   "outputs": [],
   "source": [
    "# This function requires a latitude, a longitude, and a loaded geoJSON file as inputs \n",
    "def comm_finder(lat, lng, js):\n",
    "    # construct point based on lon/lat returned by geocoder\n",
    "    point = Point(lng, lat)  # Point class from shapely library\n",
    "\n",
    "    # check each polygon to see if it contains the point\n",
    "    for feature in js['features']:\n",
    "        polygon = shape(feature['geometry']) # shape method from shapely library\n",
    "        if polygon.contains(point):\n",
    "            return (feature['properties'][\"community\"],feature['properties'][\"area_numbe\"])\n",
    "        else:\n",
    "            return (np.nan,np.nan)"
   ]
  },
  {
   "cell_type": "code",
   "execution_count": 233,
   "metadata": {},
   "outputs": [],
   "source": [
    "# load GeoJSON file containing sectors\n",
    "with open('data/Boundaries_Community_Areas.geojson') as f:\n",
    "    js = json.load(f)\n",
    "\n",
    "community_name = []\n",
    "community_code = []\n",
    "\n",
    "for lat, lng in zip(house_loc_filtered['latitude'],house_loc_filtered['longitude']):\n",
    "    cmm, cmm_num = comm_finder(lat, lng, js)\n",
    "    community_name.append(cmm)\n",
    "    community_name.append(cmm_num)"
   ]
  },
  {
   "cell_type": "code",
   "execution_count": null,
   "metadata": {},
   "outputs": [],
   "source": []
  },
  {
   "cell_type": "code",
   "execution_count": null,
   "metadata": {},
   "outputs": [],
   "source": []
  },
  {
   "cell_type": "code",
   "execution_count": null,
   "metadata": {},
   "outputs": [],
   "source": []
  },
  {
   "cell_type": "markdown",
   "metadata": {},
   "source": [
    "### 1. Finding Best Neighborhoods Based on Census Data"
   ]
  },
  {
   "cell_type": "markdown",
   "metadata": {},
   "source": [
    "#### 1.1 Load Data and Find Top 10"
   ]
  },
  {
   "cell_type": "code",
   "execution_count": 249,
   "metadata": {},
   "outputs": [
    {
     "name": "stdout",
     "output_type": "stream",
     "text": [
      " * ibm_db_sa://trj52137:***@dashdb-txn-sbox-yp-dal09-08.services.dal.bluemix.net:50000/BLUDB\n",
      "Done.\n"
     ]
    }
   ],
   "source": [
    "# Getting Census Data form IBM_DB2 SQL Database\n",
    "nbhd_hardship = %sql SELECT hardship_index, community_area_name, community_area_number, percent_aged_25__without_high_school_diploma, per_capita_income FROM CENSUS_DATA ORDER BY hardship_index NULLS LAST;\n",
    "columns = ['hardship_index', 'community_area_name', 'community_area_number', 'percent_aged_25__without_high_school_diploma', 'per_capita_income']\n",
    "nbhd_hardship = pd.DataFrame(nbhd_hardship, columns = columns)\n",
    "\n",
    "# extract chicago's average on census data (not including hardship_index)\n",
    "chicago_avg = nbhd_hardship[nbhd_hardship['hardship_index'].isnull()]\n",
    "\n",
    "# print(nbhd_hardship.shape) \n",
    "nbhd_hardship.dropna(axis = 0, subset = ['community_area_number'],inplace = True)\n",
    "# print(nbhd_hardship.shape)\n",
    "nbhd_hardship['community_area_number'] = nbhd_hardship['community_area_number'].astype(int)"
   ]
  },
  {
   "cell_type": "code",
   "execution_count": 250,
   "metadata": {},
   "outputs": [
    {
     "data": {
      "text/html": [
       "<div>\n",
       "<style scoped>\n",
       "    .dataframe tbody tr th:only-of-type {\n",
       "        vertical-align: middle;\n",
       "    }\n",
       "\n",
       "    .dataframe tbody tr th {\n",
       "        vertical-align: top;\n",
       "    }\n",
       "\n",
       "    .dataframe thead th {\n",
       "        text-align: right;\n",
       "    }\n",
       "</style>\n",
       "<table border=\"1\" class=\"dataframe\">\n",
       "  <thead>\n",
       "    <tr style=\"text-align: right;\">\n",
       "      <th></th>\n",
       "      <th>hardship_index</th>\n",
       "      <th>community_area_name</th>\n",
       "      <th>community_area_number</th>\n",
       "      <th>percent_aged_25__without_high_school_diploma</th>\n",
       "      <th>per_capita_income</th>\n",
       "    </tr>\n",
       "  </thead>\n",
       "  <tbody>\n",
       "    <tr>\n",
       "      <th>0</th>\n",
       "      <td>1.0</td>\n",
       "      <td>Near North Side</td>\n",
       "      <td>8</td>\n",
       "      <td>2.5</td>\n",
       "      <td>88669</td>\n",
       "    </tr>\n",
       "    <tr>\n",
       "      <th>1</th>\n",
       "      <td>2.0</td>\n",
       "      <td>Lincoln Park</td>\n",
       "      <td>7</td>\n",
       "      <td>3.6</td>\n",
       "      <td>71551</td>\n",
       "    </tr>\n",
       "    <tr>\n",
       "      <th>2</th>\n",
       "      <td>3.0</td>\n",
       "      <td>Loop</td>\n",
       "      <td>32</td>\n",
       "      <td>3.1</td>\n",
       "      <td>65526</td>\n",
       "    </tr>\n",
       "    <tr>\n",
       "      <th>3</th>\n",
       "      <td>5.0</td>\n",
       "      <td>Lake View</td>\n",
       "      <td>6</td>\n",
       "      <td>2.6</td>\n",
       "      <td>60058</td>\n",
       "    </tr>\n",
       "    <tr>\n",
       "      <th>4</th>\n",
       "      <td>6.0</td>\n",
       "      <td>North Center</td>\n",
       "      <td>5</td>\n",
       "      <td>4.5</td>\n",
       "      <td>57123</td>\n",
       "    </tr>\n",
       "  </tbody>\n",
       "</table>\n",
       "</div>"
      ],
      "text/plain": [
       "   hardship_index community_area_name  community_area_number  \\\n",
       "0             1.0     Near North Side                      8   \n",
       "1             2.0        Lincoln Park                      7   \n",
       "2             3.0                Loop                     32   \n",
       "3             5.0           Lake View                      6   \n",
       "4             6.0        North Center                      5   \n",
       "\n",
       "  percent_aged_25__without_high_school_diploma  per_capita_income  \n",
       "0                                          2.5              88669  \n",
       "1                                          3.6              71551  \n",
       "2                                          3.1              65526  \n",
       "3                                          2.6              60058  \n",
       "4                                          4.5              57123  "
      ]
     },
     "execution_count": 250,
     "metadata": {},
     "output_type": "execute_result"
    }
   ],
   "source": [
    "nbhd_hardship.head() \n",
    "# contains all community areas\n",
    "# can be combined with all other fators for machine learning algorithm'use"
   ]
  },
  {
   "cell_type": "markdown",
   "metadata": {},
   "source": [
    "#### 1.2 Finding coordinates for top 10 neighborhoods"
   ]
  },
  {
   "cell_type": "code",
   "execution_count": 251,
   "metadata": {},
   "outputs": [],
   "source": [
    "nbhd_rank_hd = nbhd_hardship.head(10)"
   ]
  },
  {
   "cell_type": "code",
   "execution_count": 252,
   "metadata": {},
   "outputs": [
    {
     "name": "stderr",
     "output_type": "stream",
     "text": [
      "C:\\ProgramData\\Anaconda3\\lib\\site-packages\\ipykernel_launcher.py:12: SettingWithCopyWarning: \n",
      "A value is trying to be set on a copy of a slice from a DataFrame.\n",
      "Try using .loc[row_indexer,col_indexer] = value instead\n",
      "\n",
      "See the caveats in the documentation: http://pandas.pydata.org/pandas-docs/stable/indexing.html#indexing-view-versus-copy\n",
      "  if sys.path[0] == '':\n",
      "C:\\ProgramData\\Anaconda3\\lib\\site-packages\\ipykernel_launcher.py:13: SettingWithCopyWarning: \n",
      "A value is trying to be set on a copy of a slice from a DataFrame.\n",
      "Try using .loc[row_indexer,col_indexer] = value instead\n",
      "\n",
      "See the caveats in the documentation: http://pandas.pydata.org/pandas-docs/stable/indexing.html#indexing-view-versus-copy\n",
      "  del sys.path[0]\n"
     ]
    },
    {
     "data": {
      "text/html": [
       "<div>\n",
       "<style scoped>\n",
       "    .dataframe tbody tr th:only-of-type {\n",
       "        vertical-align: middle;\n",
       "    }\n",
       "\n",
       "    .dataframe tbody tr th {\n",
       "        vertical-align: top;\n",
       "    }\n",
       "\n",
       "    .dataframe thead th {\n",
       "        text-align: right;\n",
       "    }\n",
       "</style>\n",
       "<table border=\"1\" class=\"dataframe\">\n",
       "  <thead>\n",
       "    <tr style=\"text-align: right;\">\n",
       "      <th></th>\n",
       "      <th>hardship_index</th>\n",
       "      <th>community_area_name</th>\n",
       "      <th>community_area_number</th>\n",
       "      <th>percent_aged_25__without_high_school_diploma</th>\n",
       "      <th>per_capita_income</th>\n",
       "      <th>latitude</th>\n",
       "      <th>longitude</th>\n",
       "    </tr>\n",
       "  </thead>\n",
       "  <tbody>\n",
       "    <tr>\n",
       "      <th>0</th>\n",
       "      <td>1.0</td>\n",
       "      <td>Near North Side</td>\n",
       "      <td>8</td>\n",
       "      <td>2.5</td>\n",
       "      <td>88669</td>\n",
       "      <td>41.900033</td>\n",
       "      <td>-87.634497</td>\n",
       "    </tr>\n",
       "    <tr>\n",
       "      <th>1</th>\n",
       "      <td>2.0</td>\n",
       "      <td>Lincoln Park</td>\n",
       "      <td>7</td>\n",
       "      <td>3.6</td>\n",
       "      <td>71551</td>\n",
       "      <td>41.940298</td>\n",
       "      <td>-87.638117</td>\n",
       "    </tr>\n",
       "    <tr>\n",
       "      <th>2</th>\n",
       "      <td>3.0</td>\n",
       "      <td>Loop</td>\n",
       "      <td>32</td>\n",
       "      <td>3.1</td>\n",
       "      <td>65526</td>\n",
       "      <td>41.881609</td>\n",
       "      <td>-87.629457</td>\n",
       "    </tr>\n",
       "    <tr>\n",
       "      <th>3</th>\n",
       "      <td>5.0</td>\n",
       "      <td>Lake View</td>\n",
       "      <td>6</td>\n",
       "      <td>2.6</td>\n",
       "      <td>60058</td>\n",
       "      <td>41.947050</td>\n",
       "      <td>-87.655429</td>\n",
       "    </tr>\n",
       "    <tr>\n",
       "      <th>4</th>\n",
       "      <td>6.0</td>\n",
       "      <td>North Center</td>\n",
       "      <td>5</td>\n",
       "      <td>4.5</td>\n",
       "      <td>57123</td>\n",
       "      <td>41.956107</td>\n",
       "      <td>-87.679160</td>\n",
       "    </tr>\n",
       "  </tbody>\n",
       "</table>\n",
       "</div>"
      ],
      "text/plain": [
       "   hardship_index community_area_name  community_area_number  \\\n",
       "0             1.0     Near North Side                      8   \n",
       "1             2.0        Lincoln Park                      7   \n",
       "2             3.0                Loop                     32   \n",
       "3             5.0           Lake View                      6   \n",
       "4             6.0        North Center                      5   \n",
       "\n",
       "  percent_aged_25__without_high_school_diploma  per_capita_income   latitude  \\\n",
       "0                                          2.5              88669  41.900033   \n",
       "1                                          3.6              71551  41.940298   \n",
       "2                                          3.1              65526  41.881609   \n",
       "3                                          2.6              60058  41.947050   \n",
       "4                                          4.5              57123  41.956107   \n",
       "\n",
       "   longitude  \n",
       "0 -87.634497  \n",
       "1 -87.638117  \n",
       "2 -87.629457  \n",
       "3 -87.655429  \n",
       "4 -87.679160  "
      ]
     },
     "execution_count": 252,
     "metadata": {},
     "output_type": "execute_result"
    }
   ],
   "source": [
    "# Getting coordinations for each neighborhood\n",
    "latitudes = []\n",
    "longitudes = []\n",
    "geolocator = Nominatim(user_agent=\"nb_explorer\")\n",
    "\n",
    "for i in range(nbhd_rank_hd.shape[0]):\n",
    "    address = nbhd_rank_hd['community_area_name'].iloc[i] + \",Chicago, IL, USA\"\n",
    "    location = geolocator.geocode(address)\n",
    "    latitudes.append(location.latitude)\n",
    "    longitudes.append(location.longitude)\n",
    "    \n",
    "nbhd_rank_hd['latitude'] = latitudes\n",
    "nbhd_rank_hd['longitude'] = longitudes\n",
    "\n",
    "nbhd_rank_hd.head()"
   ]
  },
  {
   "cell_type": "markdown",
   "metadata": {},
   "source": [
    "#### 1.3 Showing Top 10 Neighborhoods on Maps"
   ]
  },
  {
   "cell_type": "code",
   "execution_count": 253,
   "metadata": {},
   "outputs": [
    {
     "name": "stdout",
     "output_type": "stream",
     "text": [
      "The geograpical coordinate of Chicago City are 41.8755616, -87.6244212.\n"
     ]
    }
   ],
   "source": [
    "# Getting coordinations for Chicago\n",
    "address = 'Chicago, IL, USA'\n",
    "\n",
    "geolocator = Nominatim(user_agent=\"Chica_explorer\")\n",
    "location = geolocator.geocode(address)\n",
    "chica_latitude = location.latitude\n",
    "Chica_longitude = location.longitude\n",
    "print('The geograpical coordinate of Chicago City are {}, {}.'.format(chica_latitude, Chica_longitude))"
   ]
  },
  {
   "cell_type": "code",
   "execution_count": 254,
   "metadata": {},
   "outputs": [
    {
     "data": {
      "text/html": [
       "<div style=\"width:100%;\"><div style=\"position:relative;width:100%;height:0;padding-bottom:60%;\"><span style=\"color:#565656\">Make this Notebook Trusted to load map: File -> Trust Notebook</span><iframe src=\"about:blank\" style=\"position:absolute;width:100%;height:100%;left:0;top:0;border:none !important;\" data-html=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 onload=\"this.contentDocument.open();this.contentDocument.write(atob(this.getAttribute('data-html')));this.contentDocument.close();\" allowfullscreen webkitallowfullscreen mozallowfullscreen></iframe></div></div>"
      ],
      "text/plain": [
       "<folium.folium.Map at 0x152de35c9b0>"
      ]
     },
     "execution_count": 254,
     "metadata": {},
     "output_type": "execute_result"
    }
   ],
   "source": [
    "map_chicago = folium.Map(location=[chica_latitude, Chica_longitude], zoom_start=10)\n",
    "\n",
    "# add markers to map\n",
    "for lat, lng, hd_index, neighborhood in zip(nbhd_rank_hd['latitude'], nbhd_rank_hd['longitude'], nbhd_rank_hd['hardship_index'], nbhd_rank_hd['community_area_name']):\n",
    "    label = '{}, {}'.format(neighborhood, hd_index)\n",
    "    label = folium.Popup(label, parse_html=True)\n",
    "    folium.CircleMarker(\n",
    "        [lat, lng],\n",
    "        radius=5,\n",
    "        popup=label,\n",
    "        color='blue',\n",
    "        fill=True,\n",
    "        fill_color='#3186cc',\n",
    "        fill_opacity=0.7,\n",
    "        parse_html=False).add_to(map_chicago)  \n",
    "    \n",
    "map_chicago # showing neighborhoods on map"
   ]
  },
  {
   "cell_type": "code",
   "execution_count": null,
   "metadata": {},
   "outputs": [],
   "source": []
  },
  {
   "cell_type": "code",
   "execution_count": null,
   "metadata": {},
   "outputs": [],
   "source": []
  },
  {
   "cell_type": "code",
   "execution_count": 311,
   "metadata": {},
   "outputs": [],
   "source": [
    "# Getting Census Data form local data folder\n",
    "nbhd_schools = pd.read_csv('data/Chicago_Public_Schools_-_Progress_Report_Cards__2011-2012-v3.csv')\n",
    "nbhd_schools = nbhd_schools[nbhd_schools['Elementary, Middle, or High School'] == 'HS'].reset_index(drop = True)"
   ]
  },
  {
   "cell_type": "code",
   "execution_count": 316,
   "metadata": {},
   "outputs": [
    {
     "data": {
      "text/plain": [
       "Index(['School ID', 'NAME_OF_SCHOOL', 'Elementary, Middle, or High School',\n",
       "       'Street Address', 'City', 'State', 'ZIP Code', 'Phone Number', 'Link ',\n",
       "       'Network Manager', 'Collaborative Name',\n",
       "       'Adequate Yearly Progress Made? ', 'Track Schedule',\n",
       "       'CPS Performance Policy Status', 'CPS Performance Policy Level',\n",
       "       'HEALTHY_SCHOOL_CERTIFIED', 'Safety Icon ', 'SAFETY_SCORE',\n",
       "       'Family Involvement Icon', 'Family Involvement Score',\n",
       "       'Environment Icon ', 'Environment Score', 'Instruction Icon ',\n",
       "       'Instruction Score', 'Leaders Icon ', 'Leaders Score ',\n",
       "       'Teachers Icon ', 'Teachers Score', 'Parent Engagement Icon ',\n",
       "       'Parent Engagement Score', 'Parent Environment Icon',\n",
       "       'Parent Environment Score', 'AVERAGE_STUDENT_ATTENDANCE',\n",
       "       'Rate of Misconducts (per 100 students) ', 'Average Teacher Attendance',\n",
       "       'Individualized Education Program Compliance Rate ', 'Pk-2 Literacy %',\n",
       "       'Pk-2 Math %', 'Gr3-5 Grade Level Math %', 'Gr3-5 Grade Level Read % ',\n",
       "       'Gr3-5 Keep Pace Read %', 'Gr3-5 Keep Pace Math %',\n",
       "       'Gr6-8 Grade Level Math %', 'Gr6-8 Grade Level Read %',\n",
       "       'Gr6-8 Keep Pace Math%', 'Gr6-8 Keep Pace Read %',\n",
       "       'Gr-8 Explore Math %', 'Gr-8 Explore Read %', 'ISAT Exceeding Math %',\n",
       "       'ISAT Exceeding Reading % ', 'ISAT Value Add Math',\n",
       "       'ISAT Value Add Read', 'ISAT Value Add Color Math',\n",
       "       'ISAT Value Add Color Read', 'Students Taking  Algebra %',\n",
       "       'Students Passing  Algebra %', '9th Grade EXPLORE (2009) ',\n",
       "       '9th Grade EXPLORE (2010) ', '10th Grade PLAN (2009) ',\n",
       "       '10th Grade PLAN (2010) ', 'Net Change EXPLORE and PLAN',\n",
       "       '11th Grade Average ACT (2011) ', 'Net Change PLAN and ACT',\n",
       "       'College Eligibility %', 'Graduation Rate %',\n",
       "       'College Enrollment Rate %', 'COLLEGE_ENROLLMENT',\n",
       "       'General Services Route ', 'Freshman on Track Rate %', 'X_COORDINATE',\n",
       "       'Y_COORDINATE', 'Latitude', 'Longitude', 'COMMUNITY_AREA_NUMBER',\n",
       "       'COMMUNITY_AREA_NAME', 'Ward', 'Police District', 'Location'],\n",
       "      dtype='object')"
      ]
     },
     "execution_count": 316,
     "metadata": {},
     "output_type": "execute_result"
    }
   ],
   "source": [
    "nbhd_schools.columns"
   ]
  },
  {
   "cell_type": "code",
   "execution_count": 315,
   "metadata": {},
   "outputs": [
    {
     "data": {
      "text/plain": [
       "array(['Chicago'], dtype=object)"
      ]
     },
     "execution_count": 315,
     "metadata": {},
     "output_type": "execute_result"
    }
   ],
   "source": [
    "columns = ['City']"
   ]
  },
  {
   "cell_type": "code",
   "execution_count": 307,
   "metadata": {},
   "outputs": [],
   "source": [
    "nbhd_schools"
   ]
  },
  {
   "cell_type": "code",
   "execution_count": null,
   "metadata": {},
   "outputs": [],
   "source": []
  },
  {
   "cell_type": "code",
   "execution_count": null,
   "metadata": {},
   "outputs": [],
   "source": []
  }
 ],
 "metadata": {
  "kernelspec": {
   "display_name": "Python 3",
   "language": "python",
   "name": "python3"
  },
  "language_info": {
   "codemirror_mode": {
    "name": "ipython",
    "version": 3
   },
   "file_extension": ".py",
   "mimetype": "text/x-python",
   "name": "python",
   "nbconvert_exporter": "python",
   "pygments_lexer": "ipython3",
   "version": "3.7.3"
  }
 },
 "nbformat": 4,
 "nbformat_minor": 4
}
